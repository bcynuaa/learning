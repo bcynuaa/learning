{
 "cells": [
  {
   "cell_type": "markdown",
   "metadata": {},
   "source": [
    "## 1.导入numpy和FEM自编有限元库"
   ]
  },
  {
   "cell_type": "code",
   "execution_count": 8,
   "metadata": {},
   "outputs": [],
   "source": [
    "import FEM as fem\n",
    "import numpy as np"
   ]
  },
  {
   "cell_type": "markdown",
   "metadata": {},
   "source": [
    "<div aligned = \"center\"><img src=\"myFEM.png\"></img></div>"
   ]
  },
  {
   "cell_type": "markdown",
   "metadata": {},
   "source": [
    "## 2.设置材料参数、布置节点、并将节点按顺序以列表形式建立杆架系统"
   ]
  },
  {
   "cell_type": "code",
   "execution_count": 9,
   "metadata": {},
   "outputs": [
    {
     "name": "stdout",
     "output_type": "stream",
     "text": [
      "successfully build system !\n"
     ]
    }
   ],
   "source": [
    "E = 200e9\n",
    "A1 = 1e-4\n",
    "l1 = 20e-2\n",
    "A2 = A1 * np.sqrt(2)/2\n",
    "l2 = np.sqrt(2) * l1\n",
    "\n",
    "#以节点4为(0,0)原点,设置点集信息\n",
    "node1 = fem.Node(l1 , l1)\n",
    "node2 = fem.Node(l1 , 0)\n",
    "node3 = fem.Node(0 , l1)\n",
    "node4 = fem.Node(0 , 0)\n",
    "\n",
    "#系统建立，将节点类以list列表输入\n",
    "nodeList = [node1 , node2 , node3 , node4]\n",
    "sys = fem.SysPole(nodeList)"
   ]
  },
  {
   "cell_type": "markdown",
   "metadata": {},
   "source": [
    "## 3.根据材料以及杆单元刚度参数，连接各个节点，展示连接矩阵"
   ]
  },
  {
   "cell_type": "code",
   "execution_count": 10,
   "metadata": {},
   "outputs": [
    {
     "name": "stdout",
     "output_type": "stream",
     "text": [
      "连接矩阵 ：\n",
      " [[0. 1. 0. 0.]\n",
      " [0. 0. 0. 0.]\n",
      " [1. 1. 0. 1.]\n",
      " [1. 1. 0. 0.]]\n"
     ]
    }
   ],
   "source": [
    "#节点连接，展示连接矩阵\r\n",
    "sys.connect(3 , 1 , E , A1)\r\n",
    "sys.connect(4 , 1 , E , A2)\r\n",
    "sys.connect(1 , 2 , E , A1)\r\n",
    "sys.connect(3 , 2 , E , A2)\r\n",
    "sys.connect(4 , 2 , E , A1)\r\n",
    "sys.connect(3 , 4 , E , A1)\r\n",
    "\r\n",
    "#连接矩阵，含带方向，共六根杆\r\n",
    "print('连接矩阵 ：\\n' , sys.NodeConnection)"
   ]
  },
  {
   "cell_type": "markdown",
   "metadata": {},
   "source": [
    "## 4.根据连接情况，组装刚度矩阵并且展示"
   ]
  },
  {
   "cell_type": "code",
   "execution_count": 11,
   "metadata": {},
   "outputs": [
    {
     "name": "stdout",
     "output_type": "stream",
     "text": [
      "successfully get matrix K !\n",
      "[[ 500.  100.    0.    0. -400.    0. -100. -100.]\n",
      " [ 100.  500.    0. -400.    0.    0. -100. -100.]\n",
      " [   0.    0.  500. -100. -100.  100. -400.    0.]\n",
      " [   0. -400. -100.  500.  100. -100.    0.    0.]\n",
      " [-400.    0. -100.  100.  500. -100.    0.    0.]\n",
      " [   0.    0.  100. -100. -100.  500.    0. -400.]\n",
      " [-100. -100. -400.    0.    0.    0.  500.  100.]\n",
      " [-100. -100.    0.    0.    0. -400.  100.  500.]]\n"
     ]
    }
   ],
   "source": [
    "#系统生成，组装刚度矩阵\r\n",
    "sys.generate()\r\n",
    "\r\n",
    "#展示系统刚度矩阵，考虑单位换算后，结果与书本上一致\r\n",
    "print(sys.K/0.25/1e6)"
   ]
  },
  {
   "cell_type": "markdown",
   "metadata": {},
   "source": [
    "## 5.给定系统约束，对于不确定的地方不用设置，已在内部处理"
   ]
  },
  {
   "cell_type": "code",
   "execution_count": 12,
   "metadata": {},
   "outputs": [],
   "source": [
    "#给定约束\r\n",
    "sys.setP(1 , Px = 0 , Py = 10e3)\r\n",
    "sys.setP(2 , Px = 0 , Py = 0)\r\n",
    "sys.setUV(3 , u = 0 , v = 0)\r\n",
    "sys.setUV(4 , u = 0 , v = 0)"
   ]
  },
  {
   "cell_type": "markdown",
   "metadata": {},
   "source": [
    "## 6.系统求解整体求解，运用分块矩阵方式，并且打印信息"
   ]
  },
  {
   "cell_type": "code",
   "execution_count": 13,
   "metadata": {},
   "outputs": [
    {
     "name": "stdout",
     "output_type": "stream",
     "text": [
      "successfully update node infomation !\n",
      "Report : Information of Each Node\n",
      "****************************************\n",
      "\n",
      "\n",
      "--------------------\n",
      "\n",
      "Node1:\n",
      "\n",
      "Externel Load : \n",
      "Horizontal Load Px =  0.0\n",
      "Vertical Load Py =  10000.0\n",
      "\n",
      "\n",
      "Displacement : \n",
      "Horizontal Displacement u =  -5.4545454545454546e-05\n",
      "Vertical Displacement v =  0.0002727272727272728\n",
      "\n",
      "\n",
      "--------------------\n",
      "\n",
      "Node2:\n",
      "\n",
      "Externel Load : \n",
      "Horizontal Load Px =  0.0\n",
      "Vertical Load Py =  0.0\n",
      "\n",
      "\n",
      "Displacement : \n",
      "Horizontal Displacement u =  4.545454545454545e-05\n",
      "Vertical Displacement v =  0.00022727272727272733\n",
      "\n",
      "\n",
      "--------------------\n",
      "\n",
      "Node3:\n",
      "\n",
      "Externel Load : \n",
      "Horizontal Load Px =  10000.0\n",
      "Vertical Load Py =  -4545.454545454545\n",
      "\n",
      "\n",
      "Displacement : \n",
      "Horizontal Displacement u =  0.0\n",
      "Vertical Displacement v =  0.0\n",
      "\n",
      "\n",
      "--------------------\n",
      "\n",
      "Node4:\n",
      "\n",
      "Externel Load : \n",
      "Horizontal Load Px =  -10000.0\n",
      "Vertical Load Py =  -5454.545454545455\n",
      "\n",
      "\n",
      "Displacement : \n",
      "Horizontal Displacement u =  0.0\n",
      "Vertical Displacement v =  0.0\n",
      "\n",
      "\n",
      "****************************************"
     ]
    }
   ],
   "source": [
    "#求解\r\n",
    "sys.solve()\r\n",
    "#打印信息\r\n",
    "sys.info()"
   ]
  },
  {
   "cell_type": "markdown",
   "metadata": {},
   "source": [
    "## 7.导出计算报告入txt文本文件"
   ]
  },
  {
   "cell_type": "code",
   "execution_count": 14,
   "metadata": {},
   "outputs": [
    {
     "name": "stdout",
     "output_type": "stream",
     "text": [
      "successfully write to file demo.txt !\n"
     ]
    }
   ],
   "source": [
    "sys.export('demo.txt')"
   ]
  }
 ],
 "metadata": {
  "interpreter": {
   "hash": "8bcda323cb9ee9804fa0b87f3ac40e2df11620ff2bd26f747497d089c3a31c19"
  },
  "kernelspec": {
   "display_name": "Python 3.8.5 32-bit",
   "name": "python3"
  },
  "language_info": {
   "codemirror_mode": {
    "name": "ipython",
    "version": 3
   },
   "file_extension": ".py",
   "mimetype": "text/x-python",
   "name": "python",
   "nbconvert_exporter": "python",
   "pygments_lexer": "ipython3",
   "version": "3.8.5"
  },
  "orig_nbformat": 2
 },
 "nbformat": 4,
 "nbformat_minor": 2
}