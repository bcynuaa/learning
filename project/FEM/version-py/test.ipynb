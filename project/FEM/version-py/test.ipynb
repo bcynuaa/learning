{
 "cells": [
  {
   "cell_type": "code",
   "execution_count": 4,
   "metadata": {},
   "outputs": [],
   "source": [
    "from FEM import *"
   ]
  },
  {
   "cell_type": "code",
   "execution_count": 5,
   "metadata": {},
   "outputs": [
    {
     "name": "stdout",
     "output_type": "stream",
     "text": [
      "successfully build system !\n",
      "successfully get matrix K !\n",
      "[[ 20.           0.         -20.           0.           0.\n",
      "    0.        ]\n",
      " [  0.           0.           0.           0.           0.\n",
      "    0.        ]\n",
      " [-20.           0.          27.07106781  -7.07106781  -7.07106781\n",
      "    7.07106781]\n",
      " [  0.           0.          -7.07106781   7.07106781   7.07106781\n",
      "   -7.07106781]\n",
      " [  0.           0.          -7.07106781   7.07106781   7.07106781\n",
      "   -7.07106781]\n",
      " [  0.           0.           7.07106781  -7.07106781  -7.07106781\n",
      "    7.07106781]]\n"
     ]
    }
   ],
   "source": [
    "E = 200e9\n",
    "A = 0.01\n",
    "l = 1\n",
    "node1 = Node(0 , 0 , u = 0 , v = 0)\n",
    "node2 = Node(l , 0 , Px = 0 , Py = -10e3)\n",
    "node3 = Node(0 , l , u = 0 , v = 0)\n",
    "List = [node1 , node2 , node3]\n",
    "sys = SysPole(List)\n",
    "sys.connect(1 , 2 , E , A)\n",
    "sys.connect(2 , 3 , E , A)\n",
    "sys.generate()\n",
    "print(sys.K/1e8)"
   ]
  },
  {
   "cell_type": "code",
   "execution_count": 6,
   "metadata": {},
   "outputs": [
    {
     "name": "stdout",
     "output_type": "stream",
     "text": [
      "successfully update node infomation !\n",
      "Report : Information of Each Node\n",
      "****************************************\n",
      "Connection Matrix : \n",
      "[[0. 1. 0.]\n",
      " [0. 0. 1.]\n",
      " [0. 0. 0.]]\n",
      "\n",
      "\n",
      "Internel Force Matrix : \n",
      "[[     0.         -10000.              0.        ]\n",
      " [     0.              0.          14142.13562373]\n",
      " [     0.              0.              0.        ]]\n",
      "\n",
      "\n",
      "\n",
      "--------------------\n",
      "\n",
      "Node1:\n",
      "\n",
      "Position : ( 0  ,  0 )\n",
      "\n",
      "\n",
      "Externel Load : \n",
      "Horizontal Load Px =  10000.0\n",
      "Vertical Load Py =  0.0\n",
      "\n",
      "\n",
      "Displacement : \n",
      "Horizontal Displacement u =  0.0\n",
      "Vertical Displacement v =  0.0\n",
      "\n",
      "\n",
      "--------------------\n",
      "\n",
      "Node2:\n",
      "\n",
      "Position : ( 1  ,  0 )\n",
      "\n",
      "\n",
      "Externel Load : \n",
      "Horizontal Load Px =  0.0\n",
      "Vertical Load Py =  -10000.0\n",
      "\n",
      "\n",
      "Displacement : \n",
      "Horizontal Displacement u =  -4.9999999999999996e-06\n",
      "Vertical Displacement v =  -1.914213562373095e-05\n",
      "\n",
      "\n",
      "--------------------\n",
      "\n",
      "Node3:\n",
      "\n",
      "Position : ( 0  ,  1 )\n",
      "\n",
      "\n",
      "Externel Load : \n",
      "Horizontal Load Px =  -9999.999999999998\n",
      "Vertical Load Py =  9999.999999999998\n",
      "\n",
      "\n",
      "Displacement : \n",
      "Horizontal Displacement u =  0.0\n",
      "Vertical Displacement v =  0.0\n",
      "\n",
      "\n",
      "****************************************"
     ]
    },
    {
     "data": {
      "image/png": "[encoded data removed]",
      "text/plain": [
       "<Figure size 432x288 with 1 Axes>"
      ]
     },
     "metadata": {},
     "output_type": "display_data"
    }
   ],
   "source": [
    "sys.solve()\n",
    "sys.info(precision = 8)"
   ]
  }
 ],
 "metadata": {
  "interpreter": {
   "hash": "916dbcbb3f70747c44a77c7bcd40155683ae19c65e1c03b4aa3499c5328201f1"
  },
  "kernelspec": {
   "display_name": "Python 3.8.5 64-bit",
   "name": "python3"
  },
  "language_info": {
   "codemirror_mode": {
    "name": "ipython",
    "version": 3
   },
   "file_extension": ".py",
   "mimetype": "text/x-python",
   "name": "python",
   "nbconvert_exporter": "python",
   "pygments_lexer": "ipython3",
   "version": "3.8.5"
  },
  "orig_nbformat": 4
 },
 "nbformat": 4,
 "nbformat_minor": 2
}