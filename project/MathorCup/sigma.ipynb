{
 "cells": [
  {
   "source": [
    "# 下面两块代码用作参数设置\n",
    "\n",
    "**H,和t可以调整**"
   ],
   "cell_type": "markdown",
   "metadata": {}
  },
  {
   "cell_type": "code",
   "execution_count": 5,
   "metadata": {},
   "outputs": [],
   "source": [
    "import numpy as np\n",
    "h=44.45e-3\n",
    "b=482.6e-3\n",
    "a=525e-3\n",
    "Z=12\n",
    "L=1 #箱体长宽度\n",
    "gc=0.0105"
   ]
  },
  {
   "cell_type": "code",
   "execution_count": 6,
   "metadata": {},
   "outputs": [
    {
     "output_type": "stream",
     "name": "stdout",
     "text": [
      "x= 0.04\ny= 0.33640000000000003\nt= 0.04\ng= 9.8\nAt= 0.15023999999999998\n"
     ]
    }
   ],
   "source": [
    "g=9.8\n",
    "rho=1e3\n",
    "H=100 #海的深度，这个可以调整一下\n",
    "x=0.04\n",
    "#t=(L-9*x-8*h)/2-gc\n",
    "t=0.04 #壁厚，这个也可以调一下\n",
    "y=L-b-2*x-2*(t+gc)\n",
    "At=4*t*(L-2*gc-t)\n",
    "A=L**2\n",
    "print('x=',x)\n",
    "print('y=',y)\n",
    "print('t=',t)\n",
    "print('g=',g)\n",
    "print('At=',At)"
   ]
  },
  {
   "source": [
    "# 计算强度"
   ],
   "cell_type": "markdown",
   "metadata": {}
  },
  {
   "cell_type": "code",
   "execution_count": 7,
   "metadata": {},
   "outputs": [
    {
     "output_type": "stream",
     "name": "stdout",
     "text": [
      "sigma x= 7.18849840255591 Mpa\nsigma y= 13.5 Mpa\n13.5\n7.188498402555911\n"
     ]
    }
   ],
   "source": [
    "dp=rho*g*H+1e5\n",
    "sigmax=dp*A/At/1e6\n",
    "sigmay=dp/2/L/t/1e6\n",
    "sigma1=(sigmax+sigmay)/2+np.abs((sigmax-sigmay)/2)\n",
    "sigma2=(sigmax+sigmay)/2-np.abs((sigmax-sigmay)/2)\n",
    "print('sigma x=',sigmax,'Mpa')\n",
    "print('sigma y=',sigmay,'Mpa')\n",
    "print(sigma1)\n",
    "print(sigma2)"
   ]
  },
  {
   "source": [
    "选取的是铝合金6061，屈服强度40MPa,考虑安全系数3的情况下：\n",
    "\n",
    "3*13.5=40.5也是符合的"
   ],
   "cell_type": "markdown",
   "metadata": {}
  },
  {
   "cell_type": "code",
   "execution_count": 8,
   "metadata": {},
   "outputs": [
    {
     "output_type": "stream",
     "name": "stdout",
     "text": [
      "两侧受压= 1080.0 kN\n两侧许用受压= 617530.3216839458 kN\n"
     ]
    }
   ],
   "source": [
    "Pedge=dp*A\n",
    "Iz=2*At/4*(L-2*gc-t)**2/4\n",
    "Pcr=np.pi*200e9*Iz/(0.3*12)**2/1.3\n",
    "print('两侧受压=',Pedge/1e3,'kN')\n",
    "print('两侧许用受压=',Pcr/1e3,'kN')"
   ]
  },
  {
   "cell_type": "code",
   "execution_count": null,
   "metadata": {},
   "outputs": [],
   "source": []
  }
 ],
 "metadata": {
  "language_info": {
   "name": "python",
   "nbconvert_exporter": "python",
   "version": "3.8.5"
  },
  "orig_nbformat": 2,
  "kernelspec": {
   "name": "python385jvsc74a57bd0916dbcbb3f70747c44a77c7bcd40155683ae19c65e1c03b4aa3499c5328201f1",
   "display_name": "Python 3.8.5 64-bit"
  }
 },
 "nbformat": 4,
 "nbformat_minor": 2
}