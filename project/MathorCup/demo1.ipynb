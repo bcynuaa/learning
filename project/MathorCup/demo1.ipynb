{
 "cells": [
  {
   "cell_type": "code",
   "execution_count": 31,
   "metadata": {},
   "outputs": [],
   "source": [
    "import numpy as np \r\n",
    "import matplotlib.pyplot as plt \r\n",
    "from func import *"
   ]
  },
  {
   "cell_type": "code",
   "execution_count": 32,
   "metadata": {},
   "outputs": [],
   "source": [
    "L,l = 30,12  # m\r\n",
    "R,r = 3,0.5  # m\r\n",
    "d = 0.1  # step m\r\n",
    "M,N = int(L/d),int(2*R/d)\r\n",
    "m,n=int(l/d),int(2*r/d)\r\n",
    "k,c,rho = 0.6,4200,1000  \r\n",
    "K = k/c/rho\r\n",
    "v = 10"
   ]
  },
  {
   "cell_type": "code",
   "execution_count": 26,
   "metadata": {},
   "outputs": [],
   "source": [
    "MAP = np.zeros([M,N])"
   ]
  },
  {
   "cell_type": "code",
   "execution_count": 33,
   "metadata": {},
   "outputs": [
    {
     "data": {
      "text/plain": "array([[20., 20., 20., ..., 20., 20., 20.],\n       [20., 20., 20., ..., 20., 20., 20.],\n       [20., 20., 20., ..., 20., 20., 20.],\n       ...,\n       [20., 20., 20., ..., 20., 20., 20.],\n       [20., 20., 20., ..., 20., 20., 20.],\n       [20., 20., 20., ..., 20., 20., 20.]])"
     },
     "execution_count": 33,
     "metadata": {},
     "output_type": "execute_result"
    }
   ],
   "source": [
    "for j in range(M):\r\n",
    "    for i in range(N):\r\n",
    "        if edge(j,i)==True:\r\n",
    "            MAP[j][i]=80\r\n",
    "            pass\r\n",
    "        else:\r\n",
    "            MAP[j][i]=20\r\n",
    "        pass\r\n",
    "    pass\r\n",
    "MAP"
   ]
  },
  {
   "cell_type": "code",
   "execution_count": null,
   "metadata": {},
   "outputs": [],
   "source": []
  }
 ],
 "metadata": {
  "kernelspec": {
   "display_name": "Python 3.9.4 64-bit",
   "name": "python394jvsc74a57bd04eaf1be304415beee96765ae99c3f893cc8312c7f1196698e6029668e9aeb3e5"
  },
  "language_info": {
   "codemirror_mode": {
    "name": "ipython",
    "version": 3
   },
   "file_extension": ".py",
   "mimetype": "text/x-python",
   "name": "python",
   "nbconvert_exporter": "python",
   "pygments_lexer": "ipython3",
   "version": "3.9.4"
  },
  "metadata": {
   "interpreter": {
    "hash": "4eaf1be304415beee96765ae99c3f893cc8312c7f1196698e6029668e9aeb3e5"
   }
  },
  "orig_nbformat": 2
 },
 "nbformat": 4,
 "nbformat_minor": 2
}