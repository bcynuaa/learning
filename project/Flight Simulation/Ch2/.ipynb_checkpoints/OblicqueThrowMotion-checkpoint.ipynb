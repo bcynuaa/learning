{
 "cells": [
  {
   "cell_type": "markdown",
   "metadata": {},
   "source": [
    "# 斜抛运动\n",
    "\n",
    "## 概述\n",
    "\n",
    "考虑一个斜抛的物体以初速度$V_0$被抛出，抛出方向为斜向上$\\theta$角度。\n",
    "\n",
    "由于空气阻力对于物体会有阻力作用，因此可以认为存在这样的关系：\n",
    "$$\n",
    "D=k V^2\\tag{1}\n",
    "$$\n",
    "\n",
    "方向作用于速度的反方向。\n",
    "\n",
    "不妨对速度进行水平和垂直方向的分解，各向受力如下：\n",
    "$$\n",
    "\\begin{aligned}\n",
    "D_x=-k V V_x\n",
    "D_y=-k V V_y\n",
    "V=\\sqrt{V_x^2+V_y^2}\n",
    "\\end{aligned}\\tag{2}\n",
    "$$\n",
    "\n",
    "假设物体质量为一个常数，那么各项因为阻力产生的加速度也与$D$成正比。假设最终的折合系数为$k$。构造如下迭代格式：\n",
    "\n",
    "$$\n",
    "\\begin{aligned}\n",
    "\\begin{cases}\n",
    "V_x(i)-V_x(i-1)&=&-k V(i-1) V_x(i-1)\\cdot dt\\\\\n",
    "V_y(i)-V_y(i-1)&=&-g-k V(i-1) V_x(i-1)\\cdot dt\\\\\n",
    "x(i)-x(i-1)&=&V_x(i)\\cdot dt\\\\\n",
    "y(i)-y(i-1)&=&V_y(i)\\cdot dt\n",
    "\\end{cases}\n",
    "\\end{aligned}\\tag{3}\n",
    "$$\n",
    "\n",
    "其中初始值：\n",
    "$$\n",
    "V_x(0)=V_0 \\cos(\\theta)\\\\\n",
    "V_y(0)=V_0 \\sin(\\theta)\\tag{4}\n",
    "$$\n",
    "\n",
    "为此编写了一个对象OTM(Oblicque-Throw-Motion)用以仿真此过程，支持自定义初速度、角度、仿真时间以及仿真步长，并最终将仿真的斜抛曲线绘制出来，并标注最高点。"
   ]
  },
  {
   "cell_type": "code",
   "execution_count": 2,
   "metadata": {},
   "outputs": [],
   "source": [
    "import numpy as np\n",
    "import matplotlib.pyplot as plt\n",
    "import math\n",
    "#define gravity and the impact parament of air\n",
    "g=9.8\n",
    "k=0.1\n",
    "class OTM:\n",
    "    global g\n",
    "    global k\n",
    "    def __init__(self,V0=1,theta=np.pi/4,t=5,dt=0.01):\n",
    "        '''you need to input 4 paramaents inclding V0,theta,time span and time step\n",
    "        otherwise we will use the default value above'''\n",
    "        self.v0=V0\n",
    "        self.theta=theta\n",
    "        self.vx0=V0*math.cos(theta)\n",
    "        self.vy0=V0*math.sin(theta)\n",
    "        self.t=t\n",
    "        self.dt=dt\n",
    "        self.step=math.floor(t/dt) #to get how many steps\n",
    "        pass\n",
    "    def Solve(self):\n",
    "        n=self.step\n",
    "        vx=np.zeros(n)\n",
    "        vy=np.zeros(n)\n",
    "        x=np.zeros(n)\n",
    "        y=np.zeros(n)\n",
    "        vx[0]=self.vx0 #initial value\n",
    "        vy[0]=self.vy0 #initial value\n",
    "        for i in range(1,n): #iteration\n",
    "            v=math.sqrt(vx[i-1]**2+vy[i-1]**2)\n",
    "            vx[i]=vx[i-1]-k*v*vx[i-1]*self.dt\n",
    "            vy[i]=vy[i-1]-(k*v*vy[i-1]+g)*self.dt\n",
    "            x[i]=x[i-1]+vx[i]*self.dt\n",
    "            y[i]=y[i-1]+vy[i]*self.dt\n",
    "            pass\n",
    "        self.vx=vx\n",
    "        self.vy=vy\n",
    "        self.x=x\n",
    "        self.y=y\n",
    "        pass\n",
    "    def Showxy(self):\n",
    "        plt.plot(self.x,self.y,color='b')\n",
    "        plt.xlabel('x/m')\n",
    "        plt.ylabel('y/m')\n",
    "        plt.title('Initial Speed $V_0$='+str(self.v0)+\\\n",
    "            r', Initial Angle $\\theta$='+str(self.theta*180/np.pi)[0:4])\n",
    "        plt.grid(True)\n",
    "        ymax=self.y.max() #to get the top of the path\n",
    "        k=np.where(self.y==ymax)\n",
    "        xmax=self.x[k]\n",
    "        plt.scatter(xmax,ymax,color='r',alpha=0.5,marker='^')\n",
    "        plt.text(xmax,ymax-3,'Top Point',weight=\"bold\", color='g')\n",
    "        pass\n",
    "    pass"
   ]
  },
  {
   "cell_type": "code",
   "execution_count": 4,
   "metadata": {},
   "outputs": [
    {
     "data": {
      "image/png": "[encoded data removed]",
      "text/plain": [
       "<Figure size 432x288 with 1 Axes>"
      ]
     },
     "metadata": {
      "needs_background": "light"
     },
     "output_type": "display_data"
    }
   ],
   "source": [
    "a=OTM(100,np.pi/3,6,0.001)\n",
    "a.Solve()\n",
    "a.Showxy()"
   ]
  },
  {
   "cell_type": "code",
   "execution_count": null,
   "metadata": {},
   "outputs": [],
   "source": []
  }
 ],
 "metadata": {
  "kernelspec": {
   "display_name": "Python 3",
   "language": "python",
   "name": "python3"
  },
  "language_info": {
   "codemirror_mode": {
    "name": "ipython",
    "version": 3
   },
   "file_extension": ".py",
   "mimetype": "text/x-python",
   "name": "python",
   "nbconvert_exporter": "python",
   "pygments_lexer": "ipython3",
   "version": "3.8.5"
  }
 },
 "nbformat": 4,
 "nbformat_minor": 2
}
