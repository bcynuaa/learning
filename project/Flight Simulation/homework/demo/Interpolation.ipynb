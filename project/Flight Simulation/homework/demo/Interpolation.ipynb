{
 "cells": [
  {
   "cell_type": "markdown",
   "metadata": {},
   "source": [
    "# 插值原理"
   ]
  },
  {
   "cell_type": "markdown",
   "metadata": {},
   "source": [
    "## 1.多项式拟合原理\n",
    "\n",
    "考虑$y=P_n(x)$，其中\n",
    "$$\n",
    "P_n(x)=\\sum_{i=0}^n a_i x^i=a_0+a_1 x+a_2 x^2+\\dots+a_n x^n\n",
    "$$\n",
    "\n",
    "那么对于给定的一组序列如下：\n",
    "| $x_0$ | $x_1$ | ... | $x_n$ |\n",
    "| - | - | - | - |\n",
    "| $y_0$ | $y_1$ | ... | $y_n$ |\n",
    "\n",
    "可知对于任意一个序号$i=0,1,2,3\\dots,n$都有：\n",
    "$$\n",
    "y_i=a_0+a_1 x+a_2 x^2\\dots a_n x^n\n",
    "$$\n",
    "\n",
    "写成矩阵形式会有：\n",
    "\n",
    "$$\n",
    "\\begin{bmatrix}\n",
    "y_0\\\\\n",
    "y_1\\\\\n",
    "\\vdots\\\\\n",
    "y_n\n",
    "\\end{bmatrix}_{n+1}\n",
    "\n",
    "=\n",
    "\n",
    "\\begin{bmatrix}\n",
    "1 & x_0 & x_0^2 & \\dots & x_0^n\\\\\n",
    "1 & x_1 & x_1^2 & \\dots & x_1^n\\\\\n",
    "\\vdots & \\vdots & \\vdots & \\ddots &\\vdots\\\\\n",
    "1 & x_n & x_n^2 & \\dots & x_n^n\n",
    "\\end{bmatrix}_{(n+1)\\times (n+1)}\n",
    "\n",
    "\\begin{bmatrix}\n",
    "a_0\\\\\n",
    "a_1\\\\\n",
    "\\vdots\\\\\n",
    "a_n\n",
    "\\end{bmatrix}_{n+1}\n",
    "$$\n",
    "\n",
    "于是记\n",
    "$$\n",
    "\n",
    "\\begin{aligned}\n",
    "\\bm{X}&=\\begin{bmatrix}\n",
    "1 & x_0 & x_0^2 & \\dots & x_0^n\\\\\n",
    "1 & x_1 & x_1^2 & \\dots & x_1^n\\\\\n",
    "\\vdots & \\vdots & \\vdots & \\ddots &\\vdots\\\\\n",
    "1 & x_n & x_n^2 & \\dots & x_n^n\n",
    "\\end{bmatrix}\n",
    "\n",
    "\\\\\n",
    "\\\\\n",
    "\n",
    "\\bm{Y}&=\\begin{bmatrix}\n",
    "y_0\\\\\n",
    "y_1\\\\\n",
    "\\vdots\\\\\n",
    "y_n\n",
    "\\end{bmatrix}\n",
    "\n",
    "\\\\\n",
    "\\\\\n",
    "\n",
    "\\bm{A}&=\\begin{bmatrix}\n",
    "a_0\\\\\n",
    "a_1\\\\\n",
    "\\vdots\\\\\n",
    "a_n\n",
    "\\end{bmatrix}\n",
    "\\end{aligned}\n",
    "$$\n",
    "\n",
    "于是可以得到：\n",
    "\n",
    "$$\n",
    "\\bm{X}^{-1}\\bm{Y}=\\bm{A}\n",
    "$$"
   ]
  },
  {
   "cell_type": "code",
   "execution_count": 12,
   "metadata": {},
   "outputs": [],
   "source": [
    "import numpy as np\n",
    "import matplotlib.pyplot as plt\n",
    "\n",
    "def getX(x):\n",
    "    n=x.size\n",
    "    X=np.zeros([n,n])\n",
    "    for i in range(n):\n",
    "        X[i]=x**i\n",
    "        pass\n",
    "    return X.T\n",
    "\n",
    "def PnFitted(x,y):\n",
    "    n=x.size\n",
    "    X=getX(x)\n",
    "    A=np.linalg.inv(X).dot(y)\n",
    "    return A"
   ]
  },
  {
   "cell_type": "code",
   "execution_count": 13,
   "metadata": {},
   "outputs": [
    {
     "data": {
      "text/plain": "array([1. , 0.5, 5. , 7. ])"
     },
     "execution_count": 13,
     "metadata": {},
     "output_type": "execute_result"
    }
   ],
   "source": [
    "x=np.array([1,2,3,4])\n",
    "y=7*x**3+5*x**2+x/2+1\n",
    "a=PnFitted(x,y)\n",
    "a"
   ]
  },
  {
   "cell_type": "markdown",
   "metadata": {},
   "source": [
    "## 2.插值原理\n",
    "\n",
    "对于已知$x_i,x_{i+1},y_i,y_{i+1}$的情况，若有$x_i<x<x_{i+1}$，则可以使用近似的线性插值：\n",
    "\n",
    "$$\n",
    "y=\\frac{x_{i+1}-x}{x_{i+1}-x_i}\\cdot x_i+\\frac{x-x_i}{x_{i+1}-x_i}\\cdot x_{i+1}\n",
    "$$\n",
    "\n",
    "如果给定的情况能够包含$i-1,i,i+1$则可以使用二次拟合，给定的越多越能用高次多项式拟合。\n",
    "\n",
    "但事实上，如果给的点太多，反而会因为“过拟合”导致结果偏差太大，效果甚至不如线性插值更精确。\n",
    "\n",
    "另外对于不在给定范围内的情况，如$x<x_0$或者$x>x_n$，则可以$x_0,x_1,x_2$进行二次拟合，运用“外拓”的想法求得，但精度不能保证，这点在wolfram语言中有所体现"
   ]
  },
  {
   "cell_type": "code",
   "execution_count": 17,
   "metadata": {},
   "outputs": [],
   "source": [
    "def Interpoly(xin,x,y):\n",
    "    if xin in x:\n",
    "        k=np.argwhere(x==xin)\n",
    "        return y[k]\n",
    "    elif xin<x[1]:\n",
    "        xx=np.array([\n",
    "            x[0],x[1],x[2]\n",
    "        ])\n",
    "        yy=np.array([\n",
    "            y[0],y[1],y[2]\n",
    "        ])\n",
    "        a=PnFitted(xx,yy)\n",
    "        return a[0]+a[1]*xin+a[2]*xin**2\n",
    "    elif xin>x[-2]:\n",
    "        xx=np.array([\n",
    "            x[-1],x[-2],x[-3]\n",
    "        ])\n",
    "        yy=np.array([\n",
    "            y[-1],y[-2],y[-3]\n",
    "        ])\n",
    "        a=PnFitted(xx,yy)\n",
    "        return a[0]+a[1]*xin+a[2]*xin**2\n",
    "    else:\n",
    "        k=0\n",
    "        while x[k]<xin:\n",
    "            k+=1\n",
    "            pass\n",
    "        xx=np.array([\n",
    "            x[k-1],x[k],x[k+1]\n",
    "        ])\n",
    "        yy=np.array([\n",
    "            y[k-1],y[k],y[k+1]\n",
    "        ])\n",
    "        a=PnFitted(xx,yy)\n",
    "        return a[0]+a[1]*xin+a[2]*xin**2\n",
    "    pass"
   ]
  },
  {
   "cell_type": "code",
   "execution_count": 24,
   "metadata": {},
   "outputs": [
    {
     "data": {
      "image/png": "[encoded data removed]",
      "text/plain": "<Figure size 432x288 with 1 Axes>"
     },
     "metadata": {
      "needs_background": "light"
     },
     "output_type": "display_data"
    }
   ],
   "source": [
    "x=np.arange(0,10,1)\n",
    "y=np.sin(x)\n",
    "plt.plot(x,y,label='origin')\n",
    "xx=np.arange(-0.5,10.5,0.1)\n",
    "yy=np.zeros(xx.size)\n",
    "for i in range(xx.size):\n",
    "    yy[i]=Interpoly(xx[i],x,y)\n",
    "    pass\n",
    "plt.plot(xx,yy,label='interpolation')\n",
    "plt.legend()\n",
    "plt.grid(True)\n",
    "plt.show()"
   ]
  }
 ],
 "metadata": {
  "language_info": {},
  "orig_nbformat": 3
 },
 "nbformat": 4,
 "nbformat_minor": 2
}