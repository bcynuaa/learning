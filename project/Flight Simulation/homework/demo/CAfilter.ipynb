{
 "cells": [
  {
   "cell_type": "code",
   "execution_count": 1,
   "metadata": {},
   "outputs": [],
   "source": [
    "import numpy as np\n",
    "import matplotlib.pyplot as plt"
   ]
  },
  {
   "cell_type": "markdown",
   "metadata": {},
   "source": [
    "# 元胞自动分拣机\n",
    "\n",
    "考虑一个这样的一维元胞自动机，用于分拣同一列的像素值：\n",
    "\n",
    "- 当$i$位为1，$i-1,i+1$位为0，则分拣完成，这是一个固定的像素点，下一时刻$i$位还为1\n",
    "- 当$i$位为1，$i-1,i+1$位为1，则下一时刻$i$位还为1\n",
    "- 当$i$位为1，$i-1$位为1，$i+1$位为0，则向前聚拢，下一时刻$i$位为0，$i-1$位为1\n",
    "- 当$i$位为1，$i+1$位为1，$i-1$位为0，则向后聚拢，下一时刻$i$位为0，$i+1$位为1\n",
    "- 当$i$位为0，下一时刻$i$位还位为0，为空隙，忽略不计"
   ]
  },
  {
   "cell_type": "code",
   "execution_count": 2,
   "metadata": {},
   "outputs": [],
   "source": [
    "def CAiter(x):\n",
    "    a=np.zeros(x.size)\n",
    "    for i in range(1,x.size-1):\n",
    "        if x[i]==1 and x[i-1]==0 and x[i+1]==0:\n",
    "            a[i]=1\n",
    "            pass\n",
    "        elif x[i]==1 and x[i-1]==1 and x[i+1]==0:\n",
    "            a[i]=0\n",
    "            a[i-1]=1\n",
    "            pass\n",
    "        elif x[i]==1 and x[i-1]==0 and x[i+1]==1:\n",
    "            a[i]=0\n",
    "            a[i+1]=1\n",
    "            pass\n",
    "        elif x[i]*x[i-1]*x[i+1]==1:\n",
    "            a[i]=1\n",
    "            pass\n",
    "        else:\n",
    "            a[i]=0\n",
    "            pass\n",
    "        pass\n",
    "    return a\n",
    "    pass"
   ]
  },
  {
   "cell_type": "code",
   "execution_count": 3,
   "metadata": {},
   "outputs": [
    {
     "data": {
      "text/plain": "<matplotlib.image.AxesImage at 0x7fd16f28d9d0>"
     },
     "execution_count": 3,
     "metadata": {},
     "output_type": "execute_result"
    },
    {
     "data": {
      "image/png": "[encoded data removed]",
      "text/plain": "<Figure size 1152x144 with 1 Axes>"
     },
     "metadata": {
      "needs_background": "light"
     },
     "output_type": "display_data"
    }
   ],
   "source": [
    "x=np.array([0,1,1,1,0,0,0,1,1,0,1,0,1,1,1,0,0,0,1,0,0,1,1,0,0])\n",
    "plt.matshow(np.matrix(x))"
   ]
  },
  {
   "cell_type": "code",
   "execution_count": 4,
   "metadata": {},
   "outputs": [
    {
     "data": {
      "text/plain": "<matplotlib.image.AxesImage at 0x7fd16d184a90>"
     },
     "execution_count": 4,
     "metadata": {},
     "output_type": "execute_result"
    },
    {
     "data": {
      "image/png": "[encoded data removed]",
      "text/plain": "<Figure size 1152x144 with 1 Axes>"
     },
     "metadata": {
      "needs_background": "light"
     },
     "output_type": "display_data"
    }
   ],
   "source": [
    "plt.matshow(np.matrix(CAiter(x)))"
   ]
  },
  {
   "cell_type": "code",
   "execution_count": 6,
   "metadata": {},
   "outputs": [],
   "source": [
    "def CA(x):\n",
    "    while x.sum()!=CAiter(x).sum():\n",
    "        x=CAiter(x)\n",
    "        pass\n",
    "    return x\n",
    "    pass"
   ]
  },
  {
   "cell_type": "code",
   "execution_count": 7,
   "metadata": {},
   "outputs": [
    {
     "data": {
      "text/plain": "<matplotlib.image.AxesImage at 0x7fd16d0d2b50>"
     },
     "execution_count": 7,
     "metadata": {},
     "output_type": "execute_result"
    },
    {
     "data": {
      "image/png": "[encoded data removed]",
      "text/plain": "<Figure size 1152x144 with 1 Axes>"
     },
     "metadata": {
      "needs_background": "light"
     },
     "output_type": "display_data"
    }
   ],
   "source": [
    "plt.matshow(np.matrix(CA(x)))"
   ]
  }
 ],
 "metadata": {
  "interpreter": {
   "hash": "916dbcbb3f70747c44a77c7bcd40155683ae19c65e1c03b4aa3499c5328201f1"
  },
  "kernelspec": {
   "display_name": "Python 3.8.5 64-bit",
   "name": "python3"
  },
  "language_info": {
   "codemirror_mode": {
    "name": "ipython",
    "version": 3
   },
   "file_extension": ".py",
   "mimetype": "text/x-python",
   "name": "python",
   "nbconvert_exporter": "python",
   "pygments_lexer": "ipython3",
   "version": "3.8.5"
  },
  "orig_nbformat": 2
 },
 "nbformat": 4,
 "nbformat_minor": 2
}