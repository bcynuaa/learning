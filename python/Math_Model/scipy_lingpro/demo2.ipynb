{
 "metadata": {
  "language_info": {
   "codemirror_mode": {
    "name": "ipython",
    "version": 3
   },
   "file_extension": ".py",
   "mimetype": "text/x-python",
   "name": "python",
   "nbconvert_exporter": "python",
   "pygments_lexer": "ipython3",
   "version": "3.9.0-final"
  },
  "orig_nbformat": 2,
  "kernelspec": {
   "name": "python3",
   "display_name": "Python 3.9.0 64-bit",
   "metadata": {
    "interpreter": {
     "hash": "9a268a29e7da51f544a966440d70a0c5a18347effaeccdf59a33d711b31485f3"
    }
   }
  }
 },
 "nbformat": 4,
 "nbformat_minor": 2,
 "cells": [
  {
   "source": [
    "# 非线性规划\n",
    "\n",
    "求:\n",
    "$$\n",
    "min\\{f(x)\\}=x_1^2+x_2^2+x_3^2+8\n",
    "$$\n",
    "\n",
    "其中:\n",
    "$$\n",
    "x_1^2-x_2+x_3^2\\geq0\\\\\n",
    "x_1+x_2^2+x_3^2\\leq20\\\\\n",
    "-x_1-x_2^2+2=0\\\\\n",
    "x_2+2x_3^2=3\\\\\n",
    "x_1,x_2,x_3\\geq0\n",
    "$$"
   ],
   "cell_type": "markdown",
   "metadata": {}
  },
  {
   "source": [
    "scipy.optimize.minimize\n",
    "```python\n",
    "def minimize(fun: Callable,\n",
    "             x0: ndarray,\n",
    "             args: Union[Iterable, tuple, None] = (),\n",
    "             method: Union[str, Callable, None] = None,\n",
    "             jac: Union[Callable, str, bool, None] = None,\n",
    "             hess: str = None,\n",
    "             hessp: Optional[Callable] = None,\n",
    "             bounds: Union[Iterable, Bounds, None] = None,\n",
    "             constraints: Optional[dict] = (),\n",
    "             tol: Optional[float] = None,\n",
    "             callback: Optional[Callable] = None,\n",
    "             options: Optional[dict] = None) -> Any\n",
    "#Minimization of scalar function of one or more variables.\n",
    "```"
   ],
   "cell_type": "markdown",
   "metadata": {}
  },
  {
   "cell_type": "code",
   "execution_count": 2,
   "metadata": {},
   "outputs": [
    {
     "output_type": "stream",
     "name": "stdout",
     "text": [
      "目标值: 10.651091840594646\n答案为\nx1 = 0.5521673413384492\nx2 = 1.2032591818351863\n"
     ]
    }
   ],
   "source": [
    "from scipy import  optimize as opt\n",
    "import numpy as np\n",
    "from scipy.optimize import minimize\n",
    "# 目标函数\n",
    "def objective(x):\n",
    "    return x[0] ** 2 + x[1]**2 + x[2]**2 +8\n",
    "# 约束条件\n",
    "def constraint1(x):\n",
    "    return x[0] ** 2 - x[1] + x[2]**2  # 不等约束\n",
    "\n",
    "def constraint2(x):\n",
    "    return -(x[0] + x[1]**2 + x[2]**2-20)  # 不等约束\n",
    "\n",
    "def constraint3(x):\n",
    "    return -x[0] - x[1]**2 + 2\n",
    "\n",
    "def constraint4(x):\n",
    "    return x[1] + 2*x[2]**2 -3           # 不等约束\n",
    "\n",
    "# 边界约束\n",
    "b = (0.0, None)\n",
    "bnds = (b, b ,b) \n",
    "\n",
    "con1 = {'type': 'ineq', 'fun': constraint1}\n",
    "con2 = {'type': 'ineq', 'fun': constraint2}\n",
    "con3 = {'type': 'eq', 'fun': constraint3}\n",
    "con4 = {'type': 'eq', 'fun': constraint4}\n",
    "cons = ([con1, con2, con3,con4])  # 3个约束条件\n",
    "x0 = [1,1,1]\n",
    "# 计算\n",
    "solution = minimize(objective, x0, method='SLSQP', \\\n",
    "                    bounds=bnds, constraints=cons)\n",
    "x = solution.x\n",
    "\n",
    "print('目标值: ' + str(objective(x)))\n",
    "print('答案为')\n",
    "print('x1 = ' + str(x[0]))\n",
    "print('x2 = ' + str(x[1]))"
   ]
  }
 ]
}