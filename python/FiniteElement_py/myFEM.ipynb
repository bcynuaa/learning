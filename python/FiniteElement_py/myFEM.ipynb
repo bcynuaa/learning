{
 "cells": [
  {
   "cell_type": "code",
   "execution_count": 1,
   "metadata": {},
   "outputs": [],
   "source": [
    "import FEM as fem\n",
    "import numpy as np"
   ]
  },
  {
   "cell_type": "markdown",
   "metadata": {},
   "source": [
    "<div aligned = \"center\"><img src=\"myFEM.png\"></img></div>"
   ]
  },
  {
   "cell_type": "code",
   "execution_count": 2,
   "metadata": {},
   "outputs": [
    {
     "name": "stdout",
     "output_type": "stream",
     "text": [
      "successfully build system!\n"
     ]
    }
   ],
   "source": [
    "E = 200e9\n",
    "A1 = 1e-4\n",
    "l1 = 20e-2\n",
    "A2 = A1 * np.sqrt(2)/2\n",
    "l2 = np.sqrt(2) * l1\n",
    "\n",
    "#以节点4为(0,0)原点,设置点集信息\n",
    "node1 = fem.Node(l1 , l1)\n",
    "node2 = fem.Node(l1 , 0)\n",
    "node3 = fem.Node(0 , l1)\n",
    "node4 = fem.Node(0 , 0)\n",
    "\n",
    "#系统建立，将节点类以list列表输入\n",
    "nodeList = [node1 , node2 , node3 , node4]\n",
    "sys = fem.SysPole(nodeList)"
   ]
  },
  {
   "cell_type": "code",
   "execution_count": 3,
   "metadata": {},
   "outputs": [],
   "source": [
    "#节点连接，展示连接矩阵\n",
    "sys.connect(3 , 1 , E , A1)\n",
    "sys.connect(4 , 1 , E , A2)\n",
    "sys.connect(1 , 2 , E , A1)\n",
    "sys.connect(3 , 2 , E , A2)\n",
    "sys.connect(4 , 2 , E , A1)\n",
    "sys.connect(3 , 4 , E , A1)"
   ]
  },
  {
   "cell_type": "code",
   "execution_count": 4,
   "metadata": {},
   "outputs": [
    {
     "data": {
      "text/plain": [
       "array([[0., 1., 0., 0.],\n",
       "       [0., 0., 0., 0.],\n",
       "       [1., 1., 0., 1.],\n",
       "       [1., 1., 0., 0.]])"
      ]
     },
     "execution_count": 4,
     "metadata": {},
     "output_type": "execute_result"
    }
   ],
   "source": [
    "#连接矩阵，含带方向，共六根杆\n",
    "sys.NodeConnection"
   ]
  },
  {
   "cell_type": "code",
   "execution_count": 5,
   "metadata": {},
   "outputs": [
    {
     "name": "stdout",
     "output_type": "stream",
     "text": [
      "successfully get matrix K\n"
     ]
    }
   ],
   "source": [
    "#系统生成，组装刚度矩阵\n",
    "sys.generate()"
   ]
  },
  {
   "cell_type": "code",
   "execution_count": 6,
   "metadata": {},
   "outputs": [
    {
     "name": "stdout",
     "output_type": "stream",
     "text": [
      "[[ 500.  100.    0.    0. -400.    0. -100. -100.]\n",
      " [ 100.  500.    0. -400.    0.    0. -100. -100.]\n",
      " [   0.    0.  500. -100. -100.  100. -400.    0.]\n",
      " [   0. -400. -100.  500.  100. -100.    0.    0.]\n",
      " [-400.    0. -100.  100.  500. -100.    0.    0.]\n",
      " [   0.    0.  100. -100. -100.  500.    0. -400.]\n",
      " [-100. -100. -400.    0.    0.    0.  500.  100.]\n",
      " [-100. -100.    0.    0.    0. -400.  100.  500.]]\n"
     ]
    }
   ],
   "source": [
    "#展示系统刚度矩阵，考虑单位换算后，结果与书本上一致\n",
    "print(sys.K/0.25/1e6)"
   ]
  },
  {
   "cell_type": "code",
   "execution_count": 19,
   "metadata": {},
   "outputs": [
    {
     "data": {
      "text/plain": [
       "array([[1, 2],\n",
       "       [3, 4]])"
      ]
     },
     "execution_count": 19,
     "metadata": {},
     "output_type": "execute_result"
    }
   ],
   "source": [
    "a = np.array([[1,2],[3,4]])\n",
    "a"
   ]
  },
  {
   "cell_type": "code",
   "execution_count": 21,
   "metadata": {},
   "outputs": [
    {
     "data": {
      "text/plain": [
       "True"
      ]
     },
     "execution_count": 21,
     "metadata": {},
     "output_type": "execute_result"
    }
   ],
   "source": [
    "1 in a"
   ]
  }
 ],
 "metadata": {
  "interpreter": {
   "hash": "916dbcbb3f70747c44a77c7bcd40155683ae19c65e1c03b4aa3499c5328201f1"
  },
  "kernelspec": {
   "display_name": "Python 3.8.5 64-bit",
   "name": "python3"
  },
  "language_info": {
   "codemirror_mode": {
    "name": "ipython",
    "version": 3
   },
   "file_extension": ".py",
   "mimetype": "text/x-python",
   "name": "python",
   "nbconvert_exporter": "python",
   "pygments_lexer": "ipython3",
   "version": "3.8.5"
  },
  "orig_nbformat": 2
 },
 "nbformat": 4,
 "nbformat_minor": 2
}