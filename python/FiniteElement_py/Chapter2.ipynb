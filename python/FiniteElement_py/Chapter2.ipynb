{
 "metadata": {
  "language_info": {
   "codemirror_mode": {
    "name": "ipython",
    "version": 3
   },
   "file_extension": ".py",
   "mimetype": "text/x-python",
   "name": "python",
   "nbconvert_exporter": "python",
   "pygments_lexer": "ipython3",
   "version": "3.8.5-final"
  },
  "orig_nbformat": 2,
  "kernelspec": {
   "name": "python3",
   "display_name": "Python 3",
   "language": "python"
  }
 },
 "nbformat": 4,
 "nbformat_minor": 2,
 "cells": [
  {
   "source": [
    "# 有限元分析的一般过程——搭建Feon框架"
   ],
   "cell_type": "markdown",
   "metadata": {}
  },
  {
   "source": [
    "# 例2.1桁架问题\n",
    "![例题2.1图](https://cdn.jsdelivr.net/gh/bcynuaa/pic@main/finity_elements/ex2_1.png)"
   ],
   "cell_type": "markdown",
   "metadata": {}
  },
  {
   "cell_type": "code",
   "execution_count": 2,
   "metadata": {},
   "outputs": [],
   "source": [
    "from feon.sa import *\n",
    "from feon.tools import pair_wise\n",
    "\n",
    "if __name__==\"__main__\":\n",
    "    \n",
    "    #材料参数\n",
    "    E=210e9\n",
    "    A1=31.2e-2\n",
    "    A2=8.16e-2\n",
    "    \n",
    "    #节点\n",
    "    nds1=[]\n",
    "    nds2=[]\n",
    "    for i in range(13):\n",
    "        nds1.append(Node(i,0))\n",
    "        pass\n",
    "    for i in range(11):\n",
    "        nds2.append(Node(i+1,-1))\n",
    "        pass\n",
    "    \n",
    "    #创建单元\n",
    "    els=[]\n",
    "    for e in pair_wise(nds1):\n",
    "        els.append(Link2D11((e[0],e[1]),E,A1))\n",
    "        pass\n",
    "    for e in pair_wise(nds2):\n",
    "        els.append(Link2D11((e[0],e[1]),E,A1))\n",
    "        pass\n",
    "    for i in range(6):\n",
    "        els.append(Link2D11((nds1[i],nds2[i]),E,A2))\n",
    "        pass\n",
    "    for i in range(6):\n",
    "        els.append(Link2D11((nds2[i+5],nds1[i+1]),E,A2))\n",
    "        pass\n",
    "    for i in range(11):\n",
    "        els.append(Link2D11((nds1[i+1],nds2[i]),E,A2))\n",
    "        pass\n",
    "\n",
    "    #创建系统\n",
    "    s=System()\n",
    "    s.add_nodes(nds1,nds2)\n",
    "\n",
    "    #向系统中添加单元\n",
    "    s.add_elements(els)\n",
    "\n",
    "    #施加边界条件\n",
    "    s.add_node_force(nds1[0].ID,Fy=-1000)\n",
    "    s.add_node_force(nds1[-1].ID,Fy=-1000)\n",
    "    for i in range(1,12):\n",
    "        s.add_node_force(nds1[i].ID,Fy=-1900)\n",
    "        pass\n",
    "\n",
    "    #施加节点位移\n",
    "    s.add_fixed_sup(nds1[0].ID)\n",
    "    s.add_rolled_sup(nds1[-1].ID,'y')\n",
    "\n",
    "    #求解\n",
    "    s.solve()"
   ]
  },
  {
   "source": [
    "**显示s结果**"
   ],
   "cell_type": "markdown",
   "metadata": {}
  },
  {
   "cell_type": "code",
   "execution_count": 3,
   "metadata": {},
   "outputs": [
    {
     "output_type": "stream",
     "name": "stdout",
     "text": [
      "\n==========================\n         Results\n==========================\nType: 2D System\nNumber of nodes: 24\nNumber of elements: 45\n\nMax element sx ID: nonexist\nMax element sx: nonexist\n\nMax element sy ID: nonexist\nMax element sy: nonexist\n\nMax element sz ID: nonexist\nMax element sz: nonexist\n\nMax element sxy ID: nonexist\nMax element sxy: nonexist\n\nMax element syz ID: nonexist\nMax element syz: nonexist\n\nMax element szx ID: nonexist\nMax element szx: nonexist\n\nMax element N ID: 16\nMax element N: -90112.0\n\nMax element Ty ID:nonexist\nMax element Ty:nonexist\n\nMax element Tz ID: nonexist\nMax element Tz: nonexist\n\nMax element Mx ID: nonexist\nMax element Mx: nonexist\n\nMax element My ID: nonexist\nMax element My:nonexist\n\nMax element Mz ID: nonexist\nMax element Mz: nonexist\n\nMax node Ux ID: 23\nMax node Ux: 457560436.3636431\n\nMax node Uy ID: 11\nMax node Uy: 5033164800.000065\n\nMax node Uz ID: nonexist\nMax node Uz: nonexist\n\nMax node Phx ID: nonexist\nMax node Phx: nonexist\n\nMax node Phy ID: nonexist\nMax node Phy: nonexist\n\nMax node Phz ID: 0\nMax node Phz: 0.0\n\nMax node disp ID: 23\nMax node disp: 5053920206.818167\n\n\n"
     ]
    }
   ],
   "source": [
    "s.results()"
   ]
  },
  {
   "source": [
    "**访问单个节点**"
   ],
   "cell_type": "markdown",
   "metadata": {}
  },
  {
   "cell_type": "code",
   "execution_count": 4,
   "metadata": {},
   "outputs": [
    {
     "output_type": "execute_result",
     "data": {
      "text/plain": [
       "{'Ux': -6.202527868459607e-07, 'Uy': 457560436.3636287, 'Phz': 0.0}"
      ]
     },
     "metadata": {},
     "execution_count": 4
    }
   ],
   "source": [
    "nds1[1].disp"
   ]
  },
  {
   "source": [
    "批量访问$U_x$水平位移结果"
   ],
   "cell_type": "markdown",
   "metadata": {}
  },
  {
   "cell_type": "code",
   "execution_count": 5,
   "metadata": {},
   "outputs": [
    {
     "output_type": "execute_result",
     "data": {
      "text/plain": [
       "[0.0,\n",
       " -6.202527868459607e-07,\n",
       " -1.6487030407596247e-06,\n",
       " -2.683633015046017e-06,\n",
       " -3.599865333754618e-06,\n",
       " -3.94341815054097e-06,\n",
       " -4.050471509762505e-06,\n",
       " -4.066147828168015e-06,\n",
       " -4.057789474678078e-06,\n",
       " -4.050128024498241e-06,\n",
       " -4.055966900568359e-06,\n",
       " -4.052665376597492e-06,\n",
       " -4.05919714300444e-06]"
      ]
     },
     "metadata": {},
     "execution_count": 5
    }
   ],
   "source": [
    "disp=[nd.disp[\"Ux\"] for nd in nds1]\n",
    "disp"
   ]
  },
  {
   "cell_type": "code",
   "execution_count": 8,
   "metadata": {},
   "outputs": [
    {
     "output_type": "stream",
     "name": "stdout",
     "text": [
      "7\n-4.066147828168015e-06\n"
     ]
    }
   ],
   "source": [
    "import numpy as np\n",
    "max_id=np.argmax(np.abs(disp))\n",
    "max_disp=disp[max_id]\n",
    "print(max_id)\n",
    "print(max_disp)"
   ]
  },
  {
   "source": [
    "# 2.2 P32"
   ],
   "cell_type": "markdown",
   "metadata": {}
  },
  {
   "cell_type": "code",
   "execution_count": 1,
   "metadata": {},
   "outputs": [],
   "source": [
    "from feon.sa import *\n",
    "from feon.tools import pair_wise\n",
    "if __name__==\"__main__\":\n",
    "    #定义材料参数\n",
    "    E1=2.85e6\n",
    "    E2=210e6\n",
    "    k=15000\n",
    "    I=0.0427\n",
    "    A=0.8\n",
    "    A1=0.0025\n",
    "    ka=0.6\n",
    "\n",
    "    #创建节点和单元\n",
    "    #上方梁1m为单元\n",
    "    #下方梁以0.5m为单元\n",
    "    nds1=[Node(0,-i) for i in range(10)]\n",
    "    nds2=[Node(0,-(i+20)*0.5) for i in range(11)]\n",
    "    nds3=[Node(-0.5,-(i+20)*0.5) for i in range(11)]\n",
    "    nds4=[Node(-1.5,-2),Node(-0.5,-6)]\n",
    "    els=[]\n",
    "\n",
    "    #创建墙体\n",
    "    for nd in pair_wise(nds1+nds2):\n",
    "        els.append(Beam2D11(nd,E1,A,I))\n",
    "        pass\n",
    "    #创建土弹簧\n",
    "    for i in range(11):\n",
    "        els.append(Spring2D11((nds2[i],nds3[i]),k))\n",
    "        pass\n",
    "    #创建支撑\n",
    "    els.append(Link2D11((nds4[0],nds1[2]),E2,A1))\n",
    "    els.append(Link2D11((nds4[1],nds1[6]),E2,A1))\n",
    "    #创建有限元系统\n",
    "    s=System()\n",
    "    s.add_nodes(nds1,nds2,nds3,nds4)\n",
    "    s.add_elements(els)\n",
    "    \n",
    "    #施加边界条件\n",
    "    nid1=[nd.ID for nd in nds3]\n",
    "    nid2=[nd.ID for nd in nds4]\n",
    "    s.add_fixed_sup(nid1,nid2)\n",
    "\n",
    "    #施加主动土压力\n",
    "    #开挖面以上线性分布\n",
    "    for i,el in enumerate(els[:10]):\n",
    "        s.add_element_load(el.ID,\"tri\",-18*ka)\n",
    "        s.add_element_load(el.ID,\"q\",-i*18*ka)\n",
    "        pass\n",
    "    #开挖面以下为常数\n",
    "    for el in els[10:20]:\n",
    "        s.add_element_load(el.ID,\"q\",-180*ka)\n",
    "        pass\n",
    "    #设置位移边界条件\n",
    "    for nd in nds1:\n",
    "        nd.set_disp(Uy=0)\n",
    "        pass\n",
    "    for nd in nds2:\n",
    "        nd.set_disp(Uy=0)\n",
    "        pass\n",
    "    s.solve()"
   ]
  },
  {
   "cell_type": "code",
   "execution_count": 2,
   "metadata": {},
   "outputs": [
    {
     "output_type": "execute_result",
     "data": {
      "text/plain": [
       "[-0.0007700299450582156,\n",
       " -0.0004423325666325284,\n",
       " -0.00013682180228301544,\n",
       " 0.00010115349881691931,\n",
       " 0.0003110884597143431,\n",
       " 0.00033182305574970045,\n",
       " -0.0003527885629553484,\n",
       " -0.0021953070659743983,\n",
       " -0.0041515020133963175,\n",
       " -0.00529105069761462,\n",
       " -0.005393602061460393,\n",
       " -0.005189243548657449,\n",
       " -0.004912656530877386,\n",
       " -0.004609686319647503,\n",
       " -0.004306021389752079,\n",
       " -0.004011795388334521,\n",
       " -0.003726239790954081,\n",
       " -0.0034422191242042435,\n",
       " -0.003150648949857741,\n",
       " -0.0028448952045033735,\n",
       " -0.002525283564940772]"
      ]
     },
     "metadata": {},
     "execution_count": 2
    }
   ],
   "source": [
    "[nd.disp[\"Ux\"] for nd in nds1]+[nd.disp[\"Ux\"] for nd in nds2]"
   ]
  },
  {
   "source": [
    "# 书本2.3 P36"
   ],
   "cell_type": "markdown",
   "metadata": {}
  },
  {
   "cell_type": "code",
   "execution_count": null,
   "metadata": {},
   "outputs": [],
   "source": []
  }
 ]
}