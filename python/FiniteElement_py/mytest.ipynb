{
 "cells": [
  {
   "cell_type": "code",
   "execution_count": 2,
   "metadata": {},
   "outputs": [],
   "source": [
    "import numpy as np"
   ]
  },
  {
   "cell_type": "code",
   "execution_count": 3,
   "metadata": {},
   "outputs": [],
   "source": [
    "def Kpole(E = 200e9 , A = 0.01 , l = 1):\r\n",
    "    mat = np.array([\r\n",
    "        [1 , -1],\r\n",
    "        [-1 , 1]\r\n",
    "    ])\r\n",
    "    K = E * A / l * mat\r\n",
    "    return K\r\n",
    "    pass"
   ]
  },
  {
   "cell_type": "code",
   "execution_count": 4,
   "metadata": {},
   "outputs": [],
   "source": [
    "def Direction(theta = 0):\r\n",
    "    lambda1 = np.cos(theta)\r\n",
    "    lambda2 = np.sin(theta)\r\n",
    "    mat = np.array([lambda1 , lambda2])\r\n",
    "    return mat\r\n",
    "    pass"
   ]
  },
  {
   "cell_type": "code",
   "execution_count": 19,
   "metadata": {},
   "outputs": [],
   "source": [
    "def getK(E = 200e9 , A = 0.01 , l = 1 , theta = 0):\r\n",
    "    K0 = Kpole(E,A,l)\r\n",
    "    lam = Direction(theta)\r\n",
    "    K = lam.dot(K0).dot(lam)\r\n",
    "    return K\r\n",
    "    pass"
   ]
  },
  {
   "cell_type": "code",
   "execution_count": 20,
   "metadata": {},
   "outputs": [],
   "source": [
    "K1 = getK(theta = 0 , l = 1)\r\n",
    "K2 = getK(theta = np.pi * 3 /4 , l = np.sqrt(2))\r\n",
    "K3 = getK(theta = - np.pi / 2 , l = 1)"
   ]
  },
  {
   "cell_type": "code",
   "execution_count": 37,
   "metadata": {},
   "outputs": [
    {
     "name": "stdout",
     "output_type": "stream",
     "text": [
      "[1 2]\n"
     ]
    }
   ],
   "source": [
    "a = np.array([1,2])\r\n",
    "b = np.array([3,4])\r\n",
    "print(a)"
   ]
  }
 ],
 "metadata": {
  "interpreter": {
   "hash": "8bcda323cb9ee9804fa0b87f3ac40e2df11620ff2bd26f747497d089c3a31c19"
  },
  "kernelspec": {
   "display_name": "Python 3.8.5 32-bit",
   "name": "python3"
  },
  "language_info": {
   "codemirror_mode": {
    "name": "ipython",
    "version": 3
   },
   "file_extension": ".py",
   "mimetype": "text/x-python",
   "name": "python",
   "nbconvert_exporter": "python",
   "pygments_lexer": "ipython3",
   "version": "3.8.5"
  },
  "orig_nbformat": 2
 },
 "nbformat": 4,
 "nbformat_minor": 2
}