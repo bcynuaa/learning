{
 "cells": [
  {
   "cell_type": "code",
   "execution_count": 1,
   "metadata": {},
   "outputs": [],
   "source": [
    "import numpy as np"
   ]
  },
  {
   "cell_type": "code",
   "execution_count": 2,
   "metadata": {},
   "outputs": [],
   "source": [
    "def Kpole(E = 200e9 , A = 0.01 , l = 1):\r\n",
    "    mat = np.array([\r\n",
    "        [1 , -1],\r\n",
    "        [-1 , 1]\r\n",
    "    ])\r\n",
    "    K = E * A / l * mat\r\n",
    "    return K\r\n",
    "    pass"
   ]
  },
  {
   "cell_type": "code",
   "execution_count": 3,
   "metadata": {},
   "outputs": [],
   "source": [
    "def Direction(theta = 0):\n",
    "    lambda1 = np.cos(theta)\n",
    "    lambda2 = np.sin(theta)\n",
    "    mat = np.array([\n",
    "        [lambda1 , lambda2 , 0 , 0],\n",
    "        [0 , 0 , lambda1 ,lambda2]\n",
    "        ])\n",
    "    return mat\n",
    "    pass"
   ]
  },
  {
   "cell_type": "code",
   "execution_count": 4,
   "metadata": {},
   "outputs": [],
   "source": [
    "def getK(E = 200e9 , A = 0.01 , l = 1 , theta = 0):\n",
    "    K0 = Kpole(E,A,l)\n",
    "    lam = Direction(theta)\n",
    "    K = lam.T.dot(K0).dot(lam)\n",
    "    return K\n",
    "    pass"
   ]
  },
  {
   "cell_type": "code",
   "execution_count": 5,
   "metadata": {},
   "outputs": [],
   "source": [
    "K12 = getK(theta = 0 , l = 1)\n",
    "K23 = getK(theta = np.pi * 3 /4 , l = np.sqrt(2))\n",
    "K31 = getK(theta = - np.pi / 2 , l = 1)"
   ]
  },
  {
   "cell_type": "code",
   "execution_count": 6,
   "metadata": {},
   "outputs": [
    {
     "name": "stdout",
     "output_type": "stream",
     "text": [
      "[[ 2.e+09  0.e+00 -2.e+09  0.e+00]\n",
      " [ 0.e+00  0.e+00  0.e+00  0.e+00]\n",
      " [-2.e+09  0.e+00  2.e+09  0.e+00]\n",
      " [ 0.e+00  0.e+00  0.e+00  0.e+00]]\n",
      "[[ 7.07106781e+08 -7.07106781e+08 -7.07106781e+08  7.07106781e+08]\n",
      " [-7.07106781e+08  7.07106781e+08  7.07106781e+08 -7.07106781e+08]\n",
      " [-7.07106781e+08  7.07106781e+08  7.07106781e+08 -7.07106781e+08]\n",
      " [ 7.07106781e+08 -7.07106781e+08 -7.07106781e+08  7.07106781e+08]]\n",
      "[[ 7.49879891e-24 -1.22464680e-07 -7.49879891e-24  1.22464680e-07]\n",
      " [-1.22464680e-07  2.00000000e+09  1.22464680e-07 -2.00000000e+09]\n",
      " [-7.49879891e-24  1.22464680e-07  7.49879891e-24 -1.22464680e-07]\n",
      " [ 1.22464680e-07 -2.00000000e+09 -1.22464680e-07  2.00000000e+09]]\n"
     ]
    }
   ],
   "source": [
    "print(K12)\n",
    "print(K23)\n",
    "print(K31)"
   ]
  },
  {
   "cell_type": "code",
   "execution_count": null,
   "metadata": {},
   "outputs": [],
   "source": []
  }
 ],
 "metadata": {
  "interpreter": {
   "hash": "916dbcbb3f70747c44a77c7bcd40155683ae19c65e1c03b4aa3499c5328201f1"
  },
  "kernelspec": {
   "display_name": "Python 3.8.5 64-bit",
   "name": "python3"
  },
  "language_info": {
   "codemirror_mode": {
    "name": "ipython",
    "version": 3
   },
   "file_extension": ".py",
   "mimetype": "text/x-python",
   "name": "python",
   "nbconvert_exporter": "python",
   "pygments_lexer": "ipython3",
   "version": "3.8.5"
  },
  "metadata": {
   "interpreter": {
    "hash": "9a268a29e7da51f544a966440d70a0c5a18347effaeccdf59a33d711b31485f3"
   }
  },
  "orig_nbformat": 2
 },
 "nbformat": 4,
 "nbformat_minor": 2
}