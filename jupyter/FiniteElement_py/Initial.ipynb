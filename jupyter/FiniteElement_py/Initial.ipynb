{
 "metadata": {
  "language_info": {
   "codemirror_mode": {
    "name": "ipython",
    "version": 3
   },
   "file_extension": ".py",
   "mimetype": "text/x-python",
   "name": "python",
   "nbconvert_exporter": "python",
   "pygments_lexer": "ipython3",
   "version": "3.8.5-final"
  },
  "orig_nbformat": 2,
  "kernelspec": {
   "name": "python3",
   "display_name": "Python 3",
   "language": "python"
  }
 },
 "nbformat": 4,
 "nbformat_minor": 2,
 "cells": [
  {
   "source": [
    "# Python And Finity Element"
   ],
   "cell_type": "markdown",
   "metadata": {}
  },
  {
   "source": [
    "这个寒假打算做点有意义的事情，比如说。。。学一学有限元？\n",
    "用py写吧，感觉还是很有意思的哈哈哈！python真是个奇妙而又美丽的语言！"
   ],
   "cell_type": "markdown",
   "metadata": {}
  },
  {
   "source": [
    "# 章一、python知识初步\n",
    "\n",
    "## 1.类与继承\n",
    "由于我有一定的python基础，这里就直接上有限元中一些重要的数据类型定义。比如需要定义一个节点类Node:\n",
    "其中：需要包括结点受力$F_x,F_y$，结点位移$U_x,U_y$。"
   ],
   "cell_type": "markdown",
   "metadata": {}
  },
  {
   "cell_type": "code",
   "execution_count": 18,
   "metadata": {},
   "outputs": [],
   "source": [
    "class Node:\n",
    "    def __init__(self,x,y):\n",
    "        # 定义节点类的初始化_init_()方法，传入参数节点坐标x和y\n",
    "        #定义属性x,y代表节点的(x,y)坐标\n",
    "        self.x=x\n",
    "        self.y=y\n",
    "        #定义节点力force，字典类型，key分别为\"Fx\",Fy\"\n",
    "        self.force={\"Fx\":0,\"Fy\":0}\n",
    "        self.disp={\"Ux\":0,\"Uy\":0}\n",
    "        pass\n",
    "    #获取x，y坐标\n",
    "    def get_x(self):\n",
    "        return self.x\n",
    "        pass\n",
    "    def get_y(self):\n",
    "        return self.y\n",
    "        pass\n",
    "    #设置x,y坐标\n",
    "    def set_x(self,val):\n",
    "        self.x=val\n",
    "        pass\n",
    "    def set_y(self,val):\n",
    "        self.y=val\n",
    "        pass\n",
    "    pass"
   ]
  },
  {
   "cell_type": "code",
   "execution_count": 19,
   "metadata": {},
   "outputs": [
    {
     "output_type": "stream",
     "name": "stdout",
     "text": [
      "{'Fx': 0, 'Fy': 0}\n"
     ]
    }
   ],
   "source": [
    "nd=Node(0,1)\n",
    "print(nd.force)"
   ]
  },
  {
   "source": [
    "当然上述的方法是对于二维平面形式的节点定义，我们可以运用python的继承方式定义三维空间中的节点。"
   ],
   "cell_type": "markdown",
   "metadata": {}
  },
  {
   "cell_type": "code",
   "execution_count": 22,
   "metadata": {},
   "outputs": [],
   "source": [
    "class Node3D(Node):#继承Node类\n",
    "    def __init__(self,x,y,z):\n",
    "        Node.__init__(self,x,y)\n",
    "        #定义属性z代表节点z方向坐标\n",
    "        self.z=z\n",
    "        pass\n",
    "    #定义z坐标\n",
    "    def get_z(self):\n",
    "        return self.z\n",
    "        pass\n",
    "    #设置z坐标\n",
    "    def set_z(self,val):\n",
    "        self.z\n",
    "        pass"
   ]
  },
  {
   "cell_type": "code",
   "execution_count": 23,
   "metadata": {},
   "outputs": [
    {
     "output_type": "stream",
     "name": "stdout",
     "text": [
      "3\n"
     ]
    }
   ],
   "source": [
    "nd=Node3D(0,1,3)\n",
    "print(nd.get_z())"
   ]
  },
  {
   "source": [
    "## 2.Numpy的使用\n",
    "\n",
    "虽然我在之前的学习中有接触过一定的numpy使用，但是总体不是特别完整。因此我尝试着在使用中学习。"
   ],
   "cell_type": "markdown",
   "metadata": {}
  },
  {
   "cell_type": "code",
   "execution_count": 27,
   "metadata": {},
   "outputs": [
    {
     "output_type": "stream",
     "name": "stdout",
     "text": [
      "[[1 2 3 4]\n [2 3 4 5]\n [3 4 5 6]\n [4 5 6 7]]\n"
     ]
    }
   ],
   "source": [
    "import numpy as np\n",
    "a=np.array([[1,2,3,4],[2,3,4,5],[3,4,5,6],[4,5,6,7]])\n",
    "print(a)"
   ]
  },
  {
   "cell_type": "code",
   "execution_count": 33,
   "metadata": {},
   "outputs": [
    {
     "output_type": "stream",
     "name": "stdout",
     "text": [
      "a的维度是：(4, 4)\n一共有16个元素位于其中\n"
     ]
    }
   ],
   "source": [
    "print(\"a的维度是：{}\".format(a.shape))\n",
    "print(\"一共有{}个元素位于其中\".format(a.size))"
   ]
  },
  {
   "cell_type": "code",
   "execution_count": 37,
   "metadata": {},
   "outputs": [
    {
     "output_type": "execute_result",
     "data": {
      "text/plain": [
       "array([[1, 2, 3, 4],\n",
       "       [2, 3, 4, 5],\n",
       "       [3, 4, 5, 6],\n",
       "       [4, 5, 6, 7]])"
      ]
     },
     "metadata": {},
     "execution_count": 37
    }
   ],
   "source": [
    "a.T#转置"
   ]
  },
  {
   "cell_type": "code",
   "execution_count": 38,
   "metadata": {},
   "outputs": [
    {
     "output_type": "execute_result",
     "data": {
      "text/plain": [
       "array([[1, 2],\n",
       "       [3, 4],\n",
       "       [2, 3],\n",
       "       [4, 5],\n",
       "       [3, 4],\n",
       "       [5, 6],\n",
       "       [4, 5],\n",
       "       [6, 7]])"
      ]
     },
     "metadata": {},
     "execution_count": 38
    }
   ],
   "source": [
    "a.reshape(8,2)"
   ]
  },
  {
   "cell_type": "code",
   "execution_count": 43,
   "metadata": {},
   "outputs": [
    {
     "output_type": "stream",
     "name": "stdout",
     "text": [
      "行乘行 [[ 1  4  9 16]\n [ 2  6 12 20]\n [ 3  8 15 24]\n [ 4 10 18 28]]\n两矩阵乘积 [30 40 50 60]\n"
     ]
    }
   ],
   "source": [
    "b=np.array([1,2,3,4])\n",
    "print(\"行乘行：\",a*b)\n",
    "print('两矩阵乘积：',a.dot(b))"
   ]
  },
  {
   "cell_type": "code",
   "execution_count": null,
   "metadata": {},
   "outputs": [],
   "source": []
  }
 ]
}