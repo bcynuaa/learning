{
 "metadata": {
  "language_info": {
   "codemirror_mode": {
    "name": "ipython",
    "version": 3
   },
   "file_extension": ".py",
   "mimetype": "text/x-python",
   "name": "python",
   "nbconvert_exporter": "python",
   "pygments_lexer": "ipython3",
   "version": "3.9.0-final"
  },
  "orig_nbformat": 2,
  "kernelspec": {
   "name": "python3",
   "display_name": "Python 3.9.0 64-bit",
   "metadata": {
    "interpreter": {
     "hash": "9a268a29e7da51f544a966440d70a0c5a18347effaeccdf59a33d711b31485f3"
    }
   }
  }
 },
 "nbformat": 4,
 "nbformat_minor": 2,
 "cells": [
  {
   "source": [
    "# Python And Finity Element"
   ],
   "cell_type": "markdown",
   "metadata": {}
  },
  {
   "source": [
    "这个寒假打算做点有意义的事情，比如说。。。学一学有限元？\n",
    "用py写吧，感觉还是很有意思的哈哈哈！python真是个奇妙而又美丽的语言！"
   ],
   "cell_type": "markdown",
   "metadata": {}
  },
  {
   "source": [
    "# 章一、python知识初步\n",
    "\n",
    "## 1.类与继承\n",
    "由于我有一定的python基础，这里就直接上有限元中一些重要的数据类型定义。比如需要定义一个节点类Node:\n",
    "其中：需要包括结点受力$F_x,F_y$，结点位移$U_x,U_y$。"
   ],
   "cell_type": "markdown",
   "metadata": {}
  },
  {
   "cell_type": "code",
   "execution_count": 85,
   "metadata": {},
   "outputs": [],
   "source": [
    "class Node:\n",
    "    def __init__(self,x,y):\n",
    "        # 定义节点类的初始化_init_()方法，传入参数节点坐标x和y\n",
    "        #定义属性x,y代表节点的(x,y)坐标\n",
    "        self.x=x\n",
    "        self.y=y\n",
    "        #定义节点力force，字典类型，key分别为\"Fx\",Fy\"\n",
    "        self.force={\"Fx\":0,\"Fy\":0}\n",
    "        self.disp={\"Ux\":0,\"Uy\":0}\n",
    "        pass\n",
    "    #获取x，y坐标\n",
    "    def get_x(self):\n",
    "        return self.x\n",
    "        pass\n",
    "    def get_y(self):\n",
    "        return self.y\n",
    "        pass\n",
    "    #设置x,y坐标\n",
    "    def set_x(self,val):\n",
    "        self.x=val\n",
    "        pass\n",
    "    def set_y(self,val):\n",
    "        self.y=val\n",
    "        pass\n",
    "    pass"
   ]
  },
  {
   "cell_type": "code",
   "execution_count": 86,
   "metadata": {},
   "outputs": [
    {
     "output_type": "stream",
     "name": "stdout",
     "text": [
      "{'Fx': 0, 'Fy': 0}\n"
     ]
    }
   ],
   "source": [
    "nd=Node(0,1)\n",
    "print(nd.force)"
   ]
  },
  {
   "source": [
    "当然上述的方法是对于二维平面形式的节点定义，我们可以运用python的继承方式定义三维空间中的节点。"
   ],
   "cell_type": "markdown",
   "metadata": {}
  },
  {
   "cell_type": "code",
   "execution_count": 87,
   "metadata": {},
   "outputs": [],
   "source": [
    "class Node3D(Node):#继承Node类\n",
    "    def __init__(self,x,y,z):\n",
    "        Node.__init__(self,x,y)\n",
    "        #定义属性z代表节点z方向坐标\n",
    "        self.z=z\n",
    "        pass\n",
    "    #定义z坐标\n",
    "    def get_z(self):\n",
    "        return self.z\n",
    "        pass\n",
    "    #设置z坐标\n",
    "    def set_z(self,val):\n",
    "        self.z\n",
    "        pass"
   ]
  },
  {
   "cell_type": "code",
   "execution_count": 88,
   "metadata": {},
   "outputs": [
    {
     "output_type": "stream",
     "name": "stdout",
     "text": [
      "3\n"
     ]
    }
   ],
   "source": [
    "nd=Node3D(0,1,3)\n",
    "print(nd.get_z())"
   ]
  },
  {
   "source": [
    "## 2.Numpy的使用\n",
    "\n",
    "虽然我在之前的学习中有接触过一定的numpy使用，但是总体不是特别完整。因此我尝试着在使用中学习。"
   ],
   "cell_type": "markdown",
   "metadata": {}
  },
  {
   "cell_type": "code",
   "execution_count": 89,
   "metadata": {},
   "outputs": [
    {
     "output_type": "stream",
     "name": "stdout",
     "text": [
      "[[1 2 3 4]\n [2 3 4 5]\n [3 4 5 6]\n [4 5 6 7]]\n"
     ]
    }
   ],
   "source": [
    "import numpy as np\n",
    "a=np.array([[1,2,3,4],[2,3,4,5],[3,4,5,6],[4,5,6,7]])\n",
    "print(a)"
   ]
  },
  {
   "cell_type": "code",
   "execution_count": 90,
   "metadata": {},
   "outputs": [
    {
     "output_type": "stream",
     "name": "stdout",
     "text": [
      "a的维度是：(4, 4)\n一共有16个元素位于其中\n"
     ]
    }
   ],
   "source": [
    "print(\"a的维度是：{}\".format(a.shape))\n",
    "print(\"一共有{}个元素位于其中\".format(a.size))"
   ]
  },
  {
   "source": [
    "需注意这里返回的是tuple类型元组数据，仍然使用[]索引"
   ],
   "cell_type": "markdown",
   "metadata": {}
  },
  {
   "cell_type": "code",
   "execution_count": 91,
   "metadata": {},
   "outputs": [
    {
     "output_type": "execute_result",
     "data": {
      "text/plain": [
       "array([[1, 2, 3, 4],\n",
       "       [2, 3, 4, 5],\n",
       "       [3, 4, 5, 6],\n",
       "       [4, 5, 6, 7]])"
      ]
     },
     "metadata": {},
     "execution_count": 91
    }
   ],
   "source": [
    "a.T#转置"
   ]
  },
  {
   "cell_type": "code",
   "execution_count": 92,
   "metadata": {},
   "outputs": [
    {
     "output_type": "execute_result",
     "data": {
      "text/plain": [
       "array([[1, 2],\n",
       "       [3, 4],\n",
       "       [2, 3],\n",
       "       [4, 5],\n",
       "       [3, 4],\n",
       "       [5, 6],\n",
       "       [4, 5],\n",
       "       [6, 7]])"
      ]
     },
     "metadata": {},
     "execution_count": 92
    }
   ],
   "source": [
    "a.reshape(8,2)"
   ]
  },
  {
   "cell_type": "code",
   "execution_count": 93,
   "metadata": {},
   "outputs": [
    {
     "output_type": "stream",
     "name": "stdout",
     "text": [
      "行乘行使用*： [[ 1  4  9 16]\n [ 2  6 12 20]\n [ 3  8 15 24]\n [ 4 10 18 28]]\n两矩阵乘积使用.dot()： [30 40 50 60]\n"
     ]
    }
   ],
   "source": [
    "b=np.array([1,2,3,4])\n",
    "print(\"行乘行使用*：\",a*b)\n",
    "print('两矩阵乘积使用.dot()：',a.dot(b))"
   ]
  },
  {
   "source": [
    "arange函数的用法是(起点，终点，步长)\n",
    "\n",
    "linspace用法是(起点，等分数，终点)，且二者一般不包括终点，但linspace可选择endpoint属性"
   ],
   "cell_type": "markdown",
   "metadata": {}
  },
  {
   "cell_type": "code",
   "execution_count": 94,
   "metadata": {},
   "outputs": [
    {
     "output_type": "stream",
     "name": "stdout",
     "text": [
      "[0 1 2 3 4 5 6 7 8 9]\n[0. 1. 2. 3. 4. 5. 6. 7. 8. 9.]\n[0. 1. 2. 3. 4. 5. 6. 7. 8. 9.]\n"
     ]
    }
   ],
   "source": [
    "print(np.arange(0,10,1))\n",
    "print(np.linspace(0,9,10))\n",
    "print(np.linspace(0,10,10,endpoint=False))"
   ]
  },
  {
   "cell_type": "code",
   "execution_count": 95,
   "metadata": {},
   "outputs": [
    {
     "output_type": "stream",
     "name": "stdout",
     "text": [
      "[[0. 0. 0. 0.]\n [0. 0. 0. 0.]\n [0. 0. 0. 0.]\n [0. 0. 0. 0.]]\n[[1. 1. 1.]\n [1. 1. 1.]\n [1. 1. 1.]]\n[[ 1.00000000e+00 -6.31578947e-01]\n [-8.63506797e-17  3.15789474e-01]]\n"
     ]
    }
   ],
   "source": [
    "print(np.zeros((4,4)))\n",
    "print(np.ones((3,3)))\n",
    "print(np.empty((2,2)))"
   ]
  },
  {
   "cell_type": "code",
   "execution_count": 96,
   "metadata": {},
   "outputs": [
    {
     "output_type": "stream",
     "name": "stdout",
     "text": [
      "这么索引矩阵： [[1 2 3 4]\n [2 3 4 5]\n [3 4 5 6]]\n这么索引元素： 4\n"
     ]
    }
   ],
   "source": [
    "print(\"这么索引矩阵：\",a[0:3])\n",
    "print(\"这么索引元素：\",a[(1,2)])"
   ]
  },
  {
   "source": [
    "对于线性方程：\n",
    "$$\n",
    "Ax=b\n",
    "$$\n",
    "有如下函数解法np.linalg.solve(A,b)："
   ],
   "cell_type": "markdown",
   "metadata": {}
  },
  {
   "cell_type": "code",
   "execution_count": 97,
   "metadata": {},
   "outputs": [
    {
     "output_type": "stream",
     "name": "stdout",
     "text": [
      "[ 1.00000000e+00 -6.31578947e-01 -8.63506797e-17  3.15789474e-01]\n"
     ]
    }
   ],
   "source": [
    "A=np.array([\n",
    "    [1,2,3,4],\n",
    "    [2,3,4,6],\n",
    "    [3,5,8,10],\n",
    "    [10,12,13,5]\n",
    "])\n",
    "result=np.linalg.solve(A,b)\n",
    "print(result)"
   ]
  },
  {
   "source": [
    "# 3、Matplotlib初步"
   ],
   "cell_type": "markdown",
   "metadata": {}
  },
  {
   "cell_type": "code",
   "execution_count": 106,
   "metadata": {},
   "outputs": [
    {
     "output_type": "display_data",
     "data": {
      "text/plain": "<Figure size 432x288 with 1 Axes>",
      "image/svg+xml": "<?xml version=\"1.0\" encoding=\"utf-8\" standalone=\"no\"?>\r\n<!DOCTYPE svg PUBLIC \"-//W3C//DTD SVG 1.1//EN\"\r\n  \"http://www.w3.org/Graphics/SVG/1.1/DTD/svg11.dtd\">\r\n<!-- Created with matplotlib (https://matplotlib.org/) -->\r\n<svg height=\"235.34pt\" version=\"1.1\" viewBox=\"0 0 278.828 235.34\" width=\"278.828pt\" xmlns=\"http://www.w3.org/2000/svg\" xmlns:xlink=\"http://www.w3.org/1999/xlink\">\r\n <metadata>\r\n  <rdf:RDF xmlns:cc=\"http://creativecommons.org/ns#\" xmlns:dc=\"http://purl.org/dc/elements/1.1/\" xmlns:rdf=\"http://www.w3.org/1999/02/22-rdf-syntax-ns#\">\r\n   <cc:Work>\r\n    <dc:type rdf:resource=\"http://purl.org/dc/dcmitype/StillImage\"/>\r\n    <dc:date>2021-01-19T13:30:07.663886</dc:date>\r\n    <dc:format>image/svg+xml</dc:format>\r\n    <dc:creator>\r\n     <cc:Agent>\r\n      <dc:title>Matplotlib v3.3.3, https://matplotlib.org/</dc:title>\r\n     </cc:Agent>\r\n    </dc:creator>\r\n   </cc:Work>\r\n  </rdf:RDF>\r\n </metadata>\r\n <defs>\r\n  <style type=\"text/css\">*{stroke-linecap:butt;stroke-linejoin:round;}</style>\r\n </defs>\r\n <g id=\"figure_1\">\r\n  <g id=\"patch_1\">\r\n   <path d=\"M 0 235.34 \r\nL 278.828 235.34 \r\nL 278.828 0 \r\nL 0 0 \r\nz\r\n\" style=\"fill:none;\"/>\r\n  </g>\r\n  <g id=\"axes_1\">\r\n   <g id=\"patch_2\">\r\n    <path d=\"M 10.7 224.64 \r\nL 271.628 224.64 \r\nL 271.628 7.2 \r\nL 10.7 7.2 \r\nz\r\n\" style=\"fill:#ffffff;\"/>\r\n   </g>\r\n   <g id=\"patch_3\">\r\n    <path clip-path=\"url(#p6be4526eb9)\" d=\"M 141.164 50.688 \r\nL 138.9896 46.3392 \r\nL 141.142256 46.3392 \r\nL 141.142256 28.944 \r\nL 141.185744 28.944 \r\nL 141.185744 46.3392 \r\nL 143.3384 46.3392 \r\nz\r\n\" style=\"fill:#ff0000;stroke:#ff0000;stroke-linejoin:miter;\"/>\r\n   </g>\r\n   <g id=\"matplotlib.axis_1\"/>\r\n   <g id=\"matplotlib.axis_2\"/>\r\n   <g id=\"line2d_1\">\r\n    <path clip-path=\"url(#p6be4526eb9)\" d=\"M 54.188 181.152 \r\nL 54.188 50.688 \r\n\" style=\"fill:none;stroke:#000000;stroke-linecap:square;stroke-width:1.5;\"/>\r\n    <defs>\r\n     <path d=\"M 0 3 \r\nC 0.795609 3 1.55874 2.683901 2.12132 2.12132 \r\nC 2.683901 1.55874 3 0.795609 3 0 \r\nC 3 -0.795609 2.683901 -1.55874 2.12132 -2.12132 \r\nC 1.55874 -2.683901 0.795609 -3 0 -3 \r\nC -0.795609 -3 -1.55874 -2.683901 -2.12132 -2.12132 \r\nC -2.683901 -1.55874 -3 -0.795609 -3 0 \r\nC -3 0.795609 -2.683901 1.55874 -2.12132 2.12132 \r\nC -1.55874 2.683901 -0.795609 3 0 3 \r\nz\r\n\" id=\"m30088aa0cb\" style=\"stroke:#ffffff;\"/>\r\n    </defs>\r\n    <g clip-path=\"url(#p6be4526eb9)\">\r\n     <use style=\"stroke:#ffffff;\" x=\"54.188\" xlink:href=\"#m30088aa0cb\" y=\"181.152\"/>\r\n     <use style=\"stroke:#ffffff;\" x=\"54.188\" xlink:href=\"#m30088aa0cb\" y=\"50.688\"/>\r\n    </g>\r\n   </g>\r\n   <g id=\"line2d_2\">\r\n    <path clip-path=\"url(#p6be4526eb9)\" d=\"M 54.188 50.688 \r\nL 228.14 50.688 \r\n\" style=\"fill:none;stroke:#000000;stroke-linecap:square;stroke-width:1.5;\"/>\r\n    <g clip-path=\"url(#p6be4526eb9)\">\r\n     <use style=\"stroke:#ffffff;\" x=\"54.188\" xlink:href=\"#m30088aa0cb\" y=\"50.688\"/>\r\n     <use style=\"stroke:#ffffff;\" x=\"228.14\" xlink:href=\"#m30088aa0cb\" y=\"50.688\"/>\r\n    </g>\r\n   </g>\r\n   <g id=\"line2d_3\">\r\n    <path clip-path=\"url(#p6be4526eb9)\" d=\"M 228.14 50.688 \r\nL 228.14 181.152 \r\n\" style=\"fill:none;stroke:#000000;stroke-linecap:square;stroke-width:1.5;\"/>\r\n    <g clip-path=\"url(#p6be4526eb9)\">\r\n     <use style=\"stroke:#ffffff;\" x=\"228.14\" xlink:href=\"#m30088aa0cb\" y=\"50.688\"/>\r\n     <use style=\"stroke:#ffffff;\" x=\"228.14\" xlink:href=\"#m30088aa0cb\" y=\"181.152\"/>\r\n    </g>\r\n   </g>\r\n   <g id=\"line2d_4\">\r\n    <defs>\r\n     <path d=\"M -5 5 \r\nL 5 5 \r\nL 5 -5 \r\nL -5 -5 \r\nz\r\n\" id=\"mb3f65c17ef\" style=\"stroke:#008000;stroke-linejoin:miter;\"/>\r\n    </defs>\r\n    <g clip-path=\"url(#p6be4526eb9)\">\r\n     <use style=\"fill:#008000;stroke:#008000;stroke-linejoin:miter;\" x=\"54.188\" xlink:href=\"#mb3f65c17ef\" y=\"181.152\"/>\r\n    </g>\r\n   </g>\r\n   <g id=\"line2d_5\">\r\n    <g clip-path=\"url(#p6be4526eb9)\">\r\n     <use style=\"fill:#008000;stroke:#008000;stroke-linejoin:miter;\" x=\"228.14\" xlink:href=\"#mb3f65c17ef\" y=\"181.152\"/>\r\n    </g>\r\n   </g>\r\n   <g id=\"patch_4\">\r\n    <path d=\"M 10.7 224.64 \r\nL 10.7 7.2 \r\n\" style=\"fill:none;stroke:#000000;stroke-linecap:square;stroke-linejoin:miter;stroke-width:0.8;\"/>\r\n   </g>\r\n   <g id=\"patch_5\">\r\n    <path d=\"M 271.628 224.64 \r\nL 271.628 7.2 \r\n\" style=\"fill:none;stroke:#000000;stroke-linecap:square;stroke-linejoin:miter;stroke-width:0.8;\"/>\r\n   </g>\r\n   <g id=\"patch_6\">\r\n    <path d=\"M 10.7 224.64 \r\nL 271.628 224.64 \r\n\" style=\"fill:none;stroke:#000000;stroke-linecap:square;stroke-linejoin:miter;stroke-width:0.8;\"/>\r\n   </g>\r\n   <g id=\"patch_7\">\r\n    <path d=\"M 10.7 7.2 \r\nL 271.628 7.2 \r\n\" style=\"fill:none;stroke:#000000;stroke-linecap:square;stroke-linejoin:miter;stroke-width:0.8;\"/>\r\n   </g>\r\n  </g>\r\n </g>\r\n <defs>\r\n  <clipPath id=\"p6be4526eb9\">\r\n   <rect height=\"217.44\" width=\"260.928\" x=\"10.7\" y=\"7.2\"/>\r\n  </clipPath>\r\n </defs>\r\n</svg>\r\n",
      "image/png": "[encoded data removed]"
     },
     "metadata": {}
    }
   ],
   "source": [
    "import matplotlib.pyplot as plt\n",
    "from matplotlib.lines import Line2D\n",
    "def test():\n",
    "    n1=(0,0)\n",
    "    n2=(0,3)\n",
    "    n3=(4,3)\n",
    "    n4=(4,0)\n",
    "    nds=[n1,n2,n3,n4]\n",
    "\n",
    "    #创建图表\n",
    "    fig=plt.figure()\n",
    "\n",
    "    #创建坐标轴\n",
    "    ax=fig.add_subplot(111,aspect='equal')\n",
    "\n",
    "    #设置刻度\n",
    "    ax.set_xlim(-1,5)\n",
    "    ax.set_ylim(-1,4)\n",
    "    ax.set_xticks([])\n",
    "    ax.set_yticks([])\n",
    "\n",
    "    #绘制直线\n",
    "    for i in range(len(nds)-1):\n",
    "        x,y=[nds[i][0],nds[i+1][0]],[nds[i][1],nds[i+1][1]]\n",
    "        line=Line2D(x,y,color='k',linewidth=1.5,marker='o',markeredgecolor='w',markersize=6)\n",
    "        ax.add_line(line)\n",
    "        pass\n",
    "\n",
    "    #绘制支座\n",
    "    ax.plot(n1[0],n1[1],'gs',markersize=10)\n",
    "    ax.plot(n4[0],n4[1],'gs',markersize=10)\n",
    "\n",
    "    #绘制箭头\n",
    "    ax.arrow(2,3.5,0,-0.5,length_includes_head=True,head_length=0.1,head_width=0.1,color='r')\n",
    "\n",
    "    plt.show()\n",
    "    pass\n",
    "\n",
    "test()"
   ]
  }
 ]
}