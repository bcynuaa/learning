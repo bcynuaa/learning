{
 "metadata": {
  "language_info": {
   "codemirror_mode": {
    "name": "ipython",
    "version": 3
   },
   "file_extension": ".py",
   "mimetype": "text/x-python",
   "name": "python",
   "nbconvert_exporter": "python",
   "pygments_lexer": "ipython3",
   "version": "3.8.5-final"
  },
  "orig_nbformat": 2,
  "kernelspec": {
   "name": "python3",
   "display_name": "Python 3",
   "language": "python"
  }
 },
 "nbformat": 4,
 "nbformat_minor": 2,
 "cells": [
  {
   "source": [
    "# 有限元分析的一般过程——搭建Feon框架"
   ],
   "cell_type": "markdown",
   "metadata": {}
  },
  {
   "source": [
    "# 例2.1桁架问题\n",
    "![例题2.1图](https://cdn.jsdelivr.net/gh/bcynuaa/pic@main/finity_elements/ex2_1.png)"
   ],
   "cell_type": "markdown",
   "metadata": {}
  },
  {
   "cell_type": "code",
   "execution_count": 7,
   "metadata": {},
   "outputs": [],
   "source": [
    "from feon.sa import *\n",
    "from feon.tools import pair_wise\n",
    "\n",
    "if __name__==\"__main__\":\n",
    "    \n",
    "    #材料参数\n",
    "    E=210e9\n",
    "    A1=31.2e-2\n",
    "    A2=8.16e-2\n",
    "    \n",
    "    #节点\n",
    "    nds1=[]\n",
    "    nds2=[]\n",
    "    for i in range(13):\n",
    "        nds1.append(Node(i,0))\n",
    "        pass\n",
    "    for i in range(11):\n",
    "        nds2.append(Node(i+1,-1))\n",
    "        pass\n",
    "    \n",
    "    #创建单元\n",
    "    els=[]\n",
    "    for e in pair_wise(nds1):\n",
    "        els.append(Link2D11((e[0],e[1]),E,A1))\n",
    "        pass\n",
    "    for e in pair_wise(nds2):\n",
    "        els.append(Link2D11((e[0],e[1]),E,A1))\n",
    "        pass\n",
    "    for i in range(6):\n",
    "        els.append(Link2D11((nds1[i],nds2[i]),E,A2))\n",
    "        pass\n",
    "    for i in range(6):\n",
    "        els.append(Link2D11((nds2[i+5],nds1[i+1]),E,A2))\n",
    "        pass\n",
    "    for i in range(11):\n",
    "        els.append(Link2D11((nds1[i+1],nds2[i]),E,A2))\n",
    "        pass\n",
    "\n",
    "    #创建系统\n",
    "    s=System()\n",
    "    s.add_nodes(nds1,nds2)\n",
    "\n",
    "    #向系统中添加单元\n",
    "    s.add_elements(els)\n",
    "\n",
    "    #施加边界条件\n",
    "    s.add_node_force(nds1[0].ID,Fy=-1000)\n",
    "    s.add_node_force(nds1[-1].ID,Fy=-1000)\n",
    "    for i in range(1,12):\n",
    "        s.add_node_force(nds1[i].ID,Fy=-1900)\n",
    "        pass\n",
    "\n",
    "    #施加节点位移\n",
    "    s.add_fixed_sup(nds1[0].ID)\n",
    "    s.add_rolled_sup(nds1[-1].ID,'y')\n",
    "\n",
    "    #求解\n",
    "    s.solve()"
   ]
  },
  {
   "cell_type": "code",
   "execution_count": 8,
   "metadata": {},
   "outputs": [
    {
     "output_type": "stream",
     "name": "stdout",
     "text": [
      "\n==========================\n         Results\n==========================\nType: 2D System\nNumber of nodes: 24\nNumber of elements: 45\n\nMax element sx ID: nonexist\nMax element sx: nonexist\n\nMax element sy ID: nonexist\nMax element sy: nonexist\n\nMax element sz ID: nonexist\nMax element sz: nonexist\n\nMax element sxy ID: nonexist\nMax element sxy: nonexist\n\nMax element syz ID: nonexist\nMax element syz: nonexist\n\nMax element szx ID: nonexist\nMax element szx: nonexist\n\nMax element N ID: 18\nMax element N: -77824.0\n\nMax element Ty ID:nonexist\nMax element Ty:nonexist\n\nMax element Tz ID: nonexist\nMax element Tz: nonexist\n\nMax element Mx ID: nonexist\nMax element Mx: nonexist\n\nMax element My ID: nonexist\nMax element My:nonexist\n\nMax element Mz ID: nonexist\nMax element Mz: nonexist\n\nMax node Ux ID: 23\nMax node Ux: 344302902.61026794\n\nMax node Uy ID: 11\nMax node Uy: 3787331928.7129545\n\nMax node Uz ID: nonexist\nMax node Uz: nonexist\n\nMax node Phx ID: nonexist\nMax node Phx: nonexist\n\nMax node Phy ID: nonexist\nMax node Phy: nonexist\n\nMax node Phz ID: 0\nMax node Phz: 0.0\n\nMax node disp ID: 23\nMax node disp: 3802949858.5958824\n\n\n"
     ]
    },
    {
     "output_type": "execute_result",
     "data": {
      "text/plain": [
       "{'Ux': -6.676838823106517e-07, 'Uy': 344302902.6102592, 'Phz': 0.0}"
      ]
     },
     "metadata": {},
     "execution_count": 8
    }
   ],
   "source": [
    "s.results()\n",
    "nds1[1].disp"
   ]
  },
  {
   "cell_type": "code",
   "execution_count": null,
   "metadata": {},
   "outputs": [],
   "source": []
  }
 ]
}