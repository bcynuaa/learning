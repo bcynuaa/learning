{
 "metadata": {
  "language_info": {
   "codemirror_mode": {
    "name": "ipython",
    "version": 3
   },
   "file_extension": ".py",
   "mimetype": "text/x-python",
   "name": "python",
   "nbconvert_exporter": "python",
   "pygments_lexer": "ipython3",
   "version": "3.9.0-final"
  },
  "orig_nbformat": 2,
  "kernelspec": {
   "name": "python3",
   "display_name": "Python 3.9.0 64-bit",
   "metadata": {
    "interpreter": {
     "hash": "9a268a29e7da51f544a966440d70a0c5a18347effaeccdf59a33d711b31485f3"
    }
   }
  }
 },
 "nbformat": 4,
 "nbformat_minor": 2,
 "cells": [
  {
   "source": [
    "# 线性规划问题的求解\n",
    "[python数学模型——线性规划求解](https://blog.csdn.net/qq_40707407/article/details/81709122)"
   ],
   "cell_type": "markdown",
   "metadata": {}
  },
  {
   "source": [
    "# part1基础入门\n",
    "\n",
    "如果我们的目标是:\n",
    "\n",
    "$$\n",
    "min\\{C^T x\\}\\tag{1}\n",
    "$$\n",
    "\n",
    "其中:\n",
    "$$\n",
    "s.t.\n",
    "\\begin{cases}\n",
    "Ax\\leq b\\\\\n",
    "Aeq*x=beq\\\\\n",
    "lb \\leq x\\leq ub\n",
    "\\end{cases}\n",
    "\\tag{2}\n",
    "$$\n",
    "\n",
    "一般使用matlab代码可以这么解决:\n",
    "\n",
    "```matlab\n",
    "[x,fval]=linprog(c,A,b,Aeq,beq,LB,UB,X0,OPTIONS)\n",
    "%LB,UB分别为x的上界和下界\n",
    "```\n",
    "\n",
    "python代码可以这么处理:\n",
    "\n",
    "```python\n",
    "from scipy import optimize\n",
    "import numpy as np\n",
    "\n",
    "#求解函数\n",
    "res = optimize.linprog(c,A,b,Aeq,beq,LB,UB,X0,OPTIONS)\n",
    "#目标函数最小值\n",
    "print(res.fun)\n",
    "#最优解\n",
    "print(res.x)\n",
    "```"
   ],
   "cell_type": "markdown",
   "metadata": {}
  },
  {
   "source": [
    "例如求解\n",
    "\n",
    "$$\n",
    "max\\\\\n",
    "z=2x_1+3x_2-5x_3\\\\\n",
    "s.t.\n",
    "\\begin{cases}\n",
    "x_1+x_2+x_3=7\\\\\n",
    "2x_1-5x_2+x_3\\geq 10\\\\\n",
    "x_1+3x_2+x_3\\leq 12\\\\\n",
    "x_1,x_2,x_3\\geq 0\n",
    "\\end{cases}\n",
    "\\tag{3}\n",
    "$$"
   ],
   "cell_type": "markdown",
   "metadata": {}
  },
  {
   "cell_type": "code",
   "execution_count": 27,
   "metadata": {},
   "outputs": [
    {
     "output_type": "stream",
     "name": "stdout",
     "text": [
      "     con: array([1.80714554e-09])\n     fun: -14.571428565645032\n message: 'Optimization terminated successfully.'\n     nit: 5\n   slack: array([-2.24602559e-10,  3.85714286e+00])\n  status: 0\n success: True\n       x: array([6.42857143e+00, 5.71428571e-01, 2.35900788e-10])\n"
     ]
    }
   ],
   "source": [
    "#导入包\n",
    "from scipy import optimize\n",
    "import numpy as np\n",
    "\n",
    "#确定c,A,b,Aeq,beq\n",
    "c=np.array([2,3,-5])\n",
    "A=np.array([[-2,5,-1],[1,3,1]])\n",
    "b=np.array([-10,12])\n",
    "Aeq=np.array([[1,1,1]])\n",
    "beq=np.array([7])\n",
    "\n",
    "#求解\n",
    "res=optimize.linprog(-c,A,b,Aeq,beq)\n",
    "print(res)"
   ]
  },
  {
   "source": [
    "# part2可以转化为线性规划的问题\n",
    "\n",
    "$$\n",
    "min\\{\\sum_{i=1}^n |x_i|\\}\\tag{3}\n",
    "$$\n",
    "\n",
    "其中:\n",
    "$$\n",
    "s.t.\n",
    "Ax\\leq b\n",
    "\\tag{4}\n",
    "$$\n",
    "\n",
    "思路是,做代换:\n",
    "$$\n",
    "x_i=u_i-v_i\\\\\n",
    "|x_i|=u_i+v_i\\\\\n",
    "\\rightarrow u_i,v_i\\geq0\\\\\n",
    "u_i=\\frac{x_i+|x_i|}{2}\\\\\n",
    "v_i=\\frac{x_i-|x_i|}{2}\n",
    "\\tag{5}\n",
    "$$\n",
    "\n",
    "将上述问题转化为：\n",
    "\n",
    "$$\n",
    "min\\{\\sum_{i=1}^n u_i+v_i\\}\\tag{5}\n",
    "$$\n",
    "\n",
    "$$\n",
    "s.t.\\begin{cases}\n",
    "A(u-v)\\leq b\\\\\n",
    "u,v\\geq 0\n",
    "\\end{cases}\n",
    "\\tag{6}\n",
    "$$\n",
    "\n",
    "也可以写成:\n",
    "\n",
    "$$\n",
    "s.t.\\begin{cases}\n",
    "\\left[\\begin{matrix}\n",
    "A&-A\n",
    "\\end{matrix}\\right ]\n",
    "\n",
    "\\left[\\begin{matrix}\n",
    "u\\\\v\n",
    "\\end{matrix}\\right ]\n",
    "\n",
    "\\leq b\\\\\n",
    "u,v\\geq 0\n",
    "\\end{cases}\n",
    "\\tag{6}\n",
    "$$"
   ],
   "cell_type": "markdown",
   "metadata": {}
  },
  {
   "source": [
    "例如求解：\n",
    "$$\n",
    "min\\\\\n",
    "z=|x_1|+2|x_2|+3|x_3|+4|x_4|\\\\\n",
    "s.t.\n",
    "\\begin{cases}\n",
    "x_1-x_2-x_3+x_4\\leq-2\\\\\n",
    "x_1-x_2+x_3-3x_4\\leq-1\\\\\n",
    "x_1-x_2-2x_3+3x_4\\leq-\\frac{1}{2}\n",
    "\\end{cases}\n",
    "$$"
   ],
   "cell_type": "markdown",
   "metadata": {}
  },
  {
   "cell_type": "code",
   "execution_count": 33,
   "metadata": {},
   "outputs": [
    {
     "output_type": "stream",
     "name": "stdout",
     "text": [
      "     con: array([], dtype=float64)\n     fun: 2.0000000000638525\n message: 'Optimization terminated successfully.'\n     nit: 5\n   slack: array([-1.20925492e-11,  1.00000000e+00,  1.50000000e+00])\n  status: 0\n success: True\n       x: array([7.66479073e-12, 1.38148713e-11, 8.46982932e-13, 3.64013030e-12,\n       2.00000000e+00, 9.53789404e-13, 8.09728912e-13, 6.93527537e-12])\n"
     ]
    }
   ],
   "source": [
    "c=np.array([1,2,3,4])\n",
    "c=np.concatenate((c,c))\n",
    "A=np.array([\n",
    "    [1,-1,-1,1],\n",
    "    [1,-1,1,-3],\n",
    "    [1,-1,-2,3]\n",
    "])\n",
    "A=np.concatenate((A,-A),axis=1)\n",
    "b=np.array([-2,-1,-1/2])\n",
    "#求解\n",
    "res=optimize.linprog(c,A,b)\n",
    "print(res)"
   ]
  },
  {
   "cell_type": "code",
   "execution_count": 42,
   "metadata": {},
   "outputs": [
    {
     "output_type": "stream",
     "name": "stdout",
     "text": [
      "[-2.00000000e+00  1.28610819e-11  3.72540201e-14 -3.29514507e-12]\n[2.00000000e+00 1.47686608e-11 1.65671184e-12 1.05754057e-11]\n"
     ]
    }
   ],
   "source": [
    "xx=res.x\n",
    "u=xx[0:4]\n",
    "v=xx[4:]\n",
    "x=u-v\n",
    "x_abs=u+v\n",
    "print(x)\n",
    "print(x_abs)"
   ]
  },
  {
   "cell_type": "code",
   "execution_count": null,
   "metadata": {},
   "outputs": [],
   "source": []
  }
 ]
}